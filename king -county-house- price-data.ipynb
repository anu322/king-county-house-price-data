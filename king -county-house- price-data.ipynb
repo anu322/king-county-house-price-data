{
 "cells": [
  {
   "cell_type": "code",
   "execution_count": 142,
   "metadata": {},
   "outputs": [],
   "source": [
    "import pandas as pd\n",
    "import numpy as np\n",
    "import matplotlib.pyplot as plt\n",
    "import seaborn as sns"
   ]
  },
  {
   "cell_type": "code",
   "execution_count": 143,
   "metadata": {},
   "outputs": [],
   "source": [
    "df = pd.read_csv(\"https://raw.githubusercontent.com/dphi-official/Datasets/master/kc_house_data/kc_house_data.csv\")\n"
   ]
  },
  {
   "cell_type": "code",
   "execution_count": 144,
   "metadata": {
    "scrolled": false
   },
   "outputs": [
    {
     "data": {
      "text/html": [
       "<div>\n",
       "<style scoped>\n",
       "    .dataframe tbody tr th:only-of-type {\n",
       "        vertical-align: middle;\n",
       "    }\n",
       "\n",
       "    .dataframe tbody tr th {\n",
       "        vertical-align: top;\n",
       "    }\n",
       "\n",
       "    .dataframe thead th {\n",
       "        text-align: right;\n",
       "    }\n",
       "</style>\n",
       "<table border=\"1\" class=\"dataframe\">\n",
       "  <thead>\n",
       "    <tr style=\"text-align: right;\">\n",
       "      <th></th>\n",
       "      <th>price</th>\n",
       "      <th>bedrooms</th>\n",
       "      <th>bathrooms</th>\n",
       "      <th>sqft_living</th>\n",
       "      <th>sqft_lot</th>\n",
       "      <th>floors</th>\n",
       "      <th>waterfront</th>\n",
       "      <th>view</th>\n",
       "      <th>condition</th>\n",
       "      <th>grade</th>\n",
       "      <th>sqft_above</th>\n",
       "      <th>sqft_basement</th>\n",
       "      <th>yr_built</th>\n",
       "      <th>yr_renovated</th>\n",
       "      <th>zipcode</th>\n",
       "      <th>lat</th>\n",
       "      <th>long</th>\n",
       "      <th>sqft_living15</th>\n",
       "      <th>sqft_lot15</th>\n",
       "    </tr>\n",
       "  </thead>\n",
       "  <tbody>\n",
       "    <tr>\n",
       "      <th>0</th>\n",
       "      <td>221900.0</td>\n",
       "      <td>3</td>\n",
       "      <td>1.00</td>\n",
       "      <td>1180</td>\n",
       "      <td>5650</td>\n",
       "      <td>1.0</td>\n",
       "      <td>0</td>\n",
       "      <td>0</td>\n",
       "      <td>3</td>\n",
       "      <td>7</td>\n",
       "      <td>1180</td>\n",
       "      <td>0</td>\n",
       "      <td>1955</td>\n",
       "      <td>0</td>\n",
       "      <td>98178</td>\n",
       "      <td>47.5112</td>\n",
       "      <td>-122.257</td>\n",
       "      <td>1340</td>\n",
       "      <td>5650</td>\n",
       "    </tr>\n",
       "    <tr>\n",
       "      <th>1</th>\n",
       "      <td>538000.0</td>\n",
       "      <td>3</td>\n",
       "      <td>2.25</td>\n",
       "      <td>2570</td>\n",
       "      <td>7242</td>\n",
       "      <td>2.0</td>\n",
       "      <td>0</td>\n",
       "      <td>0</td>\n",
       "      <td>3</td>\n",
       "      <td>7</td>\n",
       "      <td>2170</td>\n",
       "      <td>400</td>\n",
       "      <td>1951</td>\n",
       "      <td>1991</td>\n",
       "      <td>98125</td>\n",
       "      <td>47.7210</td>\n",
       "      <td>-122.319</td>\n",
       "      <td>1690</td>\n",
       "      <td>7639</td>\n",
       "    </tr>\n",
       "    <tr>\n",
       "      <th>2</th>\n",
       "      <td>180000.0</td>\n",
       "      <td>2</td>\n",
       "      <td>1.00</td>\n",
       "      <td>770</td>\n",
       "      <td>10000</td>\n",
       "      <td>1.0</td>\n",
       "      <td>0</td>\n",
       "      <td>0</td>\n",
       "      <td>3</td>\n",
       "      <td>6</td>\n",
       "      <td>770</td>\n",
       "      <td>0</td>\n",
       "      <td>1933</td>\n",
       "      <td>0</td>\n",
       "      <td>98028</td>\n",
       "      <td>47.7379</td>\n",
       "      <td>-122.233</td>\n",
       "      <td>2720</td>\n",
       "      <td>8062</td>\n",
       "    </tr>\n",
       "    <tr>\n",
       "      <th>3</th>\n",
       "      <td>604000.0</td>\n",
       "      <td>4</td>\n",
       "      <td>3.00</td>\n",
       "      <td>1960</td>\n",
       "      <td>5000</td>\n",
       "      <td>1.0</td>\n",
       "      <td>0</td>\n",
       "      <td>0</td>\n",
       "      <td>5</td>\n",
       "      <td>7</td>\n",
       "      <td>1050</td>\n",
       "      <td>910</td>\n",
       "      <td>1965</td>\n",
       "      <td>0</td>\n",
       "      <td>98136</td>\n",
       "      <td>47.5208</td>\n",
       "      <td>-122.393</td>\n",
       "      <td>1360</td>\n",
       "      <td>5000</td>\n",
       "    </tr>\n",
       "    <tr>\n",
       "      <th>4</th>\n",
       "      <td>510000.0</td>\n",
       "      <td>3</td>\n",
       "      <td>2.00</td>\n",
       "      <td>1680</td>\n",
       "      <td>8080</td>\n",
       "      <td>1.0</td>\n",
       "      <td>0</td>\n",
       "      <td>0</td>\n",
       "      <td>3</td>\n",
       "      <td>8</td>\n",
       "      <td>1680</td>\n",
       "      <td>0</td>\n",
       "      <td>1987</td>\n",
       "      <td>0</td>\n",
       "      <td>98074</td>\n",
       "      <td>47.6168</td>\n",
       "      <td>-122.045</td>\n",
       "      <td>1800</td>\n",
       "      <td>7503</td>\n",
       "    </tr>\n",
       "  </tbody>\n",
       "</table>\n",
       "</div>"
      ],
      "text/plain": [
       "      price  bedrooms  bathrooms  sqft_living  sqft_lot  floors  waterfront  \\\n",
       "0  221900.0         3       1.00         1180      5650     1.0           0   \n",
       "1  538000.0         3       2.25         2570      7242     2.0           0   \n",
       "2  180000.0         2       1.00          770     10000     1.0           0   \n",
       "3  604000.0         4       3.00         1960      5000     1.0           0   \n",
       "4  510000.0         3       2.00         1680      8080     1.0           0   \n",
       "\n",
       "   view  condition  grade  sqft_above  sqft_basement  yr_built  yr_renovated  \\\n",
       "0     0          3      7        1180              0      1955             0   \n",
       "1     0          3      7        2170            400      1951          1991   \n",
       "2     0          3      6         770              0      1933             0   \n",
       "3     0          5      7        1050            910      1965             0   \n",
       "4     0          3      8        1680              0      1987             0   \n",
       "\n",
       "   zipcode      lat     long  sqft_living15  sqft_lot15  \n",
       "0    98178  47.5112 -122.257           1340        5650  \n",
       "1    98125  47.7210 -122.319           1690        7639  \n",
       "2    98028  47.7379 -122.233           2720        8062  \n",
       "3    98136  47.5208 -122.393           1360        5000  \n",
       "4    98074  47.6168 -122.045           1800        7503  "
      ]
     },
     "execution_count": 144,
     "metadata": {},
     "output_type": "execute_result"
    }
   ],
   "source": [
    "df.head()"
   ]
  },
  {
   "cell_type": "code",
   "execution_count": 145,
   "metadata": {},
   "outputs": [
    {
     "data": {
      "text/plain": [
       "(16613, 19)"
      ]
     },
     "execution_count": 145,
     "metadata": {},
     "output_type": "execute_result"
    }
   ],
   "source": [
    "df.shape"
   ]
  },
  {
   "cell_type": "code",
   "execution_count": 146,
   "metadata": {},
   "outputs": [
    {
     "name": "stdout",
     "output_type": "stream",
     "text": [
      "<class 'pandas.core.frame.DataFrame'>\n",
      "RangeIndex: 16613 entries, 0 to 16612\n",
      "Data columns (total 19 columns):\n",
      " #   Column         Non-Null Count  Dtype  \n",
      "---  ------         --------------  -----  \n",
      " 0   price          16613 non-null  float64\n",
      " 1   bedrooms       16613 non-null  int64  \n",
      " 2   bathrooms      16613 non-null  float64\n",
      " 3   sqft_living    16613 non-null  int64  \n",
      " 4   sqft_lot       16613 non-null  int64  \n",
      " 5   floors         16613 non-null  float64\n",
      " 6   waterfront     16613 non-null  int64  \n",
      " 7   view           16613 non-null  int64  \n",
      " 8   condition      16613 non-null  int64  \n",
      " 9   grade          16613 non-null  int64  \n",
      " 10  sqft_above     16613 non-null  int64  \n",
      " 11  sqft_basement  16613 non-null  int64  \n",
      " 12  yr_built       16613 non-null  int64  \n",
      " 13  yr_renovated   16613 non-null  int64  \n",
      " 14  zipcode        16613 non-null  int64  \n",
      " 15  lat            16613 non-null  float64\n",
      " 16  long           16613 non-null  float64\n",
      " 17  sqft_living15  16613 non-null  int64  \n",
      " 18  sqft_lot15     16613 non-null  int64  \n",
      "dtypes: float64(5), int64(14)\n",
      "memory usage: 2.4 MB\n"
     ]
    }
   ],
   "source": [
    "df.info()"
   ]
  },
  {
   "cell_type": "code",
   "execution_count": 147,
   "metadata": {},
   "outputs": [
    {
     "data": {
      "text/plain": [
       "price            0\n",
       "bedrooms         0\n",
       "bathrooms        0\n",
       "sqft_living      0\n",
       "sqft_lot         0\n",
       "floors           0\n",
       "waterfront       0\n",
       "view             0\n",
       "condition        0\n",
       "grade            0\n",
       "sqft_above       0\n",
       "sqft_basement    0\n",
       "yr_built         0\n",
       "yr_renovated     0\n",
       "zipcode          0\n",
       "lat              0\n",
       "long             0\n",
       "sqft_living15    0\n",
       "sqft_lot15       0\n",
       "dtype: int64"
      ]
     },
     "execution_count": 147,
     "metadata": {},
     "output_type": "execute_result"
    }
   ],
   "source": [
    "df.isnull().sum()"
   ]
  },
  {
   "cell_type": "code",
   "execution_count": 148,
   "metadata": {},
   "outputs": [
    {
     "data": {
      "text/html": [
       "<div>\n",
       "<style scoped>\n",
       "    .dataframe tbody tr th:only-of-type {\n",
       "        vertical-align: middle;\n",
       "    }\n",
       "\n",
       "    .dataframe tbody tr th {\n",
       "        vertical-align: top;\n",
       "    }\n",
       "\n",
       "    .dataframe thead th {\n",
       "        text-align: right;\n",
       "    }\n",
       "</style>\n",
       "<table border=\"1\" class=\"dataframe\">\n",
       "  <thead>\n",
       "    <tr style=\"text-align: right;\">\n",
       "      <th></th>\n",
       "      <th>price</th>\n",
       "      <th>bedrooms</th>\n",
       "      <th>bathrooms</th>\n",
       "      <th>sqft_living</th>\n",
       "      <th>sqft_lot</th>\n",
       "      <th>floors</th>\n",
       "      <th>waterfront</th>\n",
       "      <th>view</th>\n",
       "      <th>condition</th>\n",
       "      <th>grade</th>\n",
       "      <th>sqft_above</th>\n",
       "      <th>sqft_basement</th>\n",
       "      <th>yr_built</th>\n",
       "      <th>yr_renovated</th>\n",
       "      <th>zipcode</th>\n",
       "      <th>lat</th>\n",
       "      <th>long</th>\n",
       "      <th>sqft_living15</th>\n",
       "      <th>sqft_lot15</th>\n",
       "    </tr>\n",
       "  </thead>\n",
       "  <tbody>\n",
       "    <tr>\n",
       "      <th>count</th>\n",
       "      <td>1.661300e+04</td>\n",
       "      <td>16613.000000</td>\n",
       "      <td>16613.000000</td>\n",
       "      <td>16613.000000</td>\n",
       "      <td>1.661300e+04</td>\n",
       "      <td>16613.000000</td>\n",
       "      <td>16613.000000</td>\n",
       "      <td>16613.000000</td>\n",
       "      <td>16613.000000</td>\n",
       "      <td>16613.000000</td>\n",
       "      <td>16613.000000</td>\n",
       "      <td>16613.000000</td>\n",
       "      <td>16613.000000</td>\n",
       "      <td>16613.000000</td>\n",
       "      <td>16613.000000</td>\n",
       "      <td>16613.000000</td>\n",
       "      <td>16613.000000</td>\n",
       "      <td>16613.000000</td>\n",
       "      <td>16613.000000</td>\n",
       "    </tr>\n",
       "    <tr>\n",
       "      <th>mean</th>\n",
       "      <td>5.335161e+05</td>\n",
       "      <td>3.365918</td>\n",
       "      <td>2.062090</td>\n",
       "      <td>2053.860531</td>\n",
       "      <td>1.573761e+04</td>\n",
       "      <td>1.432553</td>\n",
       "      <td>0.007946</td>\n",
       "      <td>0.244026</td>\n",
       "      <td>3.449708</td>\n",
       "      <td>7.592608</td>\n",
       "      <td>1750.210859</td>\n",
       "      <td>303.649672</td>\n",
       "      <td>1967.297418</td>\n",
       "      <td>89.855234</td>\n",
       "      <td>98078.162283</td>\n",
       "      <td>47.560026</td>\n",
       "      <td>-122.215380</td>\n",
       "      <td>1974.793776</td>\n",
       "      <td>13287.334256</td>\n",
       "    </tr>\n",
       "    <tr>\n",
       "      <th>std</th>\n",
       "      <td>3.665165e+05</td>\n",
       "      <td>0.937185</td>\n",
       "      <td>0.758786</td>\n",
       "      <td>904.438391</td>\n",
       "      <td>4.195449e+04</td>\n",
       "      <td>0.509669</td>\n",
       "      <td>0.088786</td>\n",
       "      <td>0.781695</td>\n",
       "      <td>0.666582</td>\n",
       "      <td>1.168420</td>\n",
       "      <td>804.771068</td>\n",
       "      <td>450.701536</td>\n",
       "      <td>27.936716</td>\n",
       "      <td>413.846846</td>\n",
       "      <td>54.152178</td>\n",
       "      <td>0.139708</td>\n",
       "      <td>0.138657</td>\n",
       "      <td>673.022438</td>\n",
       "      <td>27456.421787</td>\n",
       "    </tr>\n",
       "    <tr>\n",
       "      <th>min</th>\n",
       "      <td>7.500000e+04</td>\n",
       "      <td>0.000000</td>\n",
       "      <td>0.000000</td>\n",
       "      <td>370.000000</td>\n",
       "      <td>5.200000e+02</td>\n",
       "      <td>1.000000</td>\n",
       "      <td>0.000000</td>\n",
       "      <td>0.000000</td>\n",
       "      <td>1.000000</td>\n",
       "      <td>3.000000</td>\n",
       "      <td>370.000000</td>\n",
       "      <td>0.000000</td>\n",
       "      <td>1900.000000</td>\n",
       "      <td>0.000000</td>\n",
       "      <td>98001.000000</td>\n",
       "      <td>47.155900</td>\n",
       "      <td>-122.519000</td>\n",
       "      <td>399.000000</td>\n",
       "      <td>660.000000</td>\n",
       "    </tr>\n",
       "    <tr>\n",
       "      <th>25%</th>\n",
       "      <td>3.150000e+05</td>\n",
       "      <td>3.000000</td>\n",
       "      <td>1.500000</td>\n",
       "      <td>1414.000000</td>\n",
       "      <td>5.454000e+03</td>\n",
       "      <td>1.000000</td>\n",
       "      <td>0.000000</td>\n",
       "      <td>0.000000</td>\n",
       "      <td>3.000000</td>\n",
       "      <td>7.000000</td>\n",
       "      <td>1180.000000</td>\n",
       "      <td>0.000000</td>\n",
       "      <td>1950.000000</td>\n",
       "      <td>0.000000</td>\n",
       "      <td>98033.000000</td>\n",
       "      <td>47.464600</td>\n",
       "      <td>-122.327000</td>\n",
       "      <td>1490.000000</td>\n",
       "      <td>5421.000000</td>\n",
       "    </tr>\n",
       "    <tr>\n",
       "      <th>50%</th>\n",
       "      <td>4.470000e+05</td>\n",
       "      <td>3.000000</td>\n",
       "      <td>2.000000</td>\n",
       "      <td>1900.000000</td>\n",
       "      <td>7.902000e+03</td>\n",
       "      <td>1.000000</td>\n",
       "      <td>0.000000</td>\n",
       "      <td>0.000000</td>\n",
       "      <td>3.000000</td>\n",
       "      <td>7.000000</td>\n",
       "      <td>1530.000000</td>\n",
       "      <td>0.000000</td>\n",
       "      <td>1969.000000</td>\n",
       "      <td>0.000000</td>\n",
       "      <td>98065.000000</td>\n",
       "      <td>47.573000</td>\n",
       "      <td>-122.231000</td>\n",
       "      <td>1830.000000</td>\n",
       "      <td>7823.000000</td>\n",
       "    </tr>\n",
       "    <tr>\n",
       "      <th>75%</th>\n",
       "      <td>6.387000e+05</td>\n",
       "      <td>4.000000</td>\n",
       "      <td>2.500000</td>\n",
       "      <td>2500.000000</td>\n",
       "      <td>1.107000e+04</td>\n",
       "      <td>2.000000</td>\n",
       "      <td>0.000000</td>\n",
       "      <td>0.000000</td>\n",
       "      <td>4.000000</td>\n",
       "      <td>8.000000</td>\n",
       "      <td>2140.000000</td>\n",
       "      <td>600.000000</td>\n",
       "      <td>1990.000000</td>\n",
       "      <td>0.000000</td>\n",
       "      <td>98118.000000</td>\n",
       "      <td>47.679000</td>\n",
       "      <td>-122.127000</td>\n",
       "      <td>2330.000000</td>\n",
       "      <td>10327.000000</td>\n",
       "    </tr>\n",
       "    <tr>\n",
       "      <th>max</th>\n",
       "      <td>7.700000e+06</td>\n",
       "      <td>33.000000</td>\n",
       "      <td>8.000000</td>\n",
       "      <td>13540.000000</td>\n",
       "      <td>1.651359e+06</td>\n",
       "      <td>3.500000</td>\n",
       "      <td>1.000000</td>\n",
       "      <td>4.000000</td>\n",
       "      <td>5.000000</td>\n",
       "      <td>13.000000</td>\n",
       "      <td>9410.000000</td>\n",
       "      <td>4820.000000</td>\n",
       "      <td>2015.000000</td>\n",
       "      <td>2015.000000</td>\n",
       "      <td>98199.000000</td>\n",
       "      <td>47.777600</td>\n",
       "      <td>-121.315000</td>\n",
       "      <td>6110.000000</td>\n",
       "      <td>871200.000000</td>\n",
       "    </tr>\n",
       "  </tbody>\n",
       "</table>\n",
       "</div>"
      ],
      "text/plain": [
       "              price      bedrooms     bathrooms   sqft_living      sqft_lot  \\\n",
       "count  1.661300e+04  16613.000000  16613.000000  16613.000000  1.661300e+04   \n",
       "mean   5.335161e+05      3.365918      2.062090   2053.860531  1.573761e+04   \n",
       "std    3.665165e+05      0.937185      0.758786    904.438391  4.195449e+04   \n",
       "min    7.500000e+04      0.000000      0.000000    370.000000  5.200000e+02   \n",
       "25%    3.150000e+05      3.000000      1.500000   1414.000000  5.454000e+03   \n",
       "50%    4.470000e+05      3.000000      2.000000   1900.000000  7.902000e+03   \n",
       "75%    6.387000e+05      4.000000      2.500000   2500.000000  1.107000e+04   \n",
       "max    7.700000e+06     33.000000      8.000000  13540.000000  1.651359e+06   \n",
       "\n",
       "             floors    waterfront          view     condition         grade  \\\n",
       "count  16613.000000  16613.000000  16613.000000  16613.000000  16613.000000   \n",
       "mean       1.432553      0.007946      0.244026      3.449708      7.592608   \n",
       "std        0.509669      0.088786      0.781695      0.666582      1.168420   \n",
       "min        1.000000      0.000000      0.000000      1.000000      3.000000   \n",
       "25%        1.000000      0.000000      0.000000      3.000000      7.000000   \n",
       "50%        1.000000      0.000000      0.000000      3.000000      7.000000   \n",
       "75%        2.000000      0.000000      0.000000      4.000000      8.000000   \n",
       "max        3.500000      1.000000      4.000000      5.000000     13.000000   \n",
       "\n",
       "         sqft_above  sqft_basement      yr_built  yr_renovated       zipcode  \\\n",
       "count  16613.000000   16613.000000  16613.000000  16613.000000  16613.000000   \n",
       "mean    1750.210859     303.649672   1967.297418     89.855234  98078.162283   \n",
       "std      804.771068     450.701536     27.936716    413.846846     54.152178   \n",
       "min      370.000000       0.000000   1900.000000      0.000000  98001.000000   \n",
       "25%     1180.000000       0.000000   1950.000000      0.000000  98033.000000   \n",
       "50%     1530.000000       0.000000   1969.000000      0.000000  98065.000000   \n",
       "75%     2140.000000     600.000000   1990.000000      0.000000  98118.000000   \n",
       "max     9410.000000    4820.000000   2015.000000   2015.000000  98199.000000   \n",
       "\n",
       "                lat          long  sqft_living15     sqft_lot15  \n",
       "count  16613.000000  16613.000000   16613.000000   16613.000000  \n",
       "mean      47.560026   -122.215380    1974.793776   13287.334256  \n",
       "std        0.139708      0.138657     673.022438   27456.421787  \n",
       "min       47.155900   -122.519000     399.000000     660.000000  \n",
       "25%       47.464600   -122.327000    1490.000000    5421.000000  \n",
       "50%       47.573000   -122.231000    1830.000000    7823.000000  \n",
       "75%       47.679000   -122.127000    2330.000000   10327.000000  \n",
       "max       47.777600   -121.315000    6110.000000  871200.000000  "
      ]
     },
     "execution_count": 148,
     "metadata": {},
     "output_type": "execute_result"
    }
   ],
   "source": [
    "df.describe()"
   ]
  },
  {
   "cell_type": "code",
   "execution_count": 149,
   "metadata": {
    "scrolled": true
   },
   "outputs": [
    {
     "data": {
      "text/html": [
       "<div>\n",
       "<style scoped>\n",
       "    .dataframe tbody tr th:only-of-type {\n",
       "        vertical-align: middle;\n",
       "    }\n",
       "\n",
       "    .dataframe tbody tr th {\n",
       "        vertical-align: top;\n",
       "    }\n",
       "\n",
       "    .dataframe thead th {\n",
       "        text-align: right;\n",
       "    }\n",
       "</style>\n",
       "<table border=\"1\" class=\"dataframe\">\n",
       "  <thead>\n",
       "    <tr style=\"text-align: right;\">\n",
       "      <th></th>\n",
       "      <th>price</th>\n",
       "      <th>bedrooms</th>\n",
       "      <th>bathrooms</th>\n",
       "      <th>sqft_living</th>\n",
       "      <th>sqft_lot</th>\n",
       "      <th>floors</th>\n",
       "      <th>waterfront</th>\n",
       "      <th>view</th>\n",
       "      <th>condition</th>\n",
       "      <th>grade</th>\n",
       "      <th>sqft_above</th>\n",
       "      <th>sqft_basement</th>\n",
       "      <th>yr_built</th>\n",
       "      <th>yr_renovated</th>\n",
       "      <th>zipcode</th>\n",
       "      <th>lat</th>\n",
       "      <th>long</th>\n",
       "      <th>sqft_living15</th>\n",
       "      <th>sqft_lot15</th>\n",
       "    </tr>\n",
       "  </thead>\n",
       "  <tbody>\n",
       "    <tr>\n",
       "      <th>price</th>\n",
       "      <td>1.000000</td>\n",
       "      <td>0.297623</td>\n",
       "      <td>0.520171</td>\n",
       "      <td>0.700905</td>\n",
       "      <td>0.092417</td>\n",
       "      <td>0.278254</td>\n",
       "      <td>0.279745</td>\n",
       "      <td>0.404975</td>\n",
       "      <td>0.046763</td>\n",
       "      <td>0.662290</td>\n",
       "      <td>0.603312</td>\n",
       "      <td>0.329258</td>\n",
       "      <td>0.036825</td>\n",
       "      <td>0.134056</td>\n",
       "      <td>-0.046708</td>\n",
       "      <td>0.306885</td>\n",
       "      <td>0.015396</td>\n",
       "      <td>0.598540</td>\n",
       "      <td>0.080679</td>\n",
       "    </tr>\n",
       "    <tr>\n",
       "      <th>bedrooms</th>\n",
       "      <td>0.297623</td>\n",
       "      <td>1.000000</td>\n",
       "      <td>0.516568</td>\n",
       "      <td>0.559794</td>\n",
       "      <td>0.034451</td>\n",
       "      <td>0.204544</td>\n",
       "      <td>-0.001665</td>\n",
       "      <td>0.083943</td>\n",
       "      <td>0.033362</td>\n",
       "      <td>0.351915</td>\n",
       "      <td>0.451997</td>\n",
       "      <td>0.316274</td>\n",
       "      <td>0.161967</td>\n",
       "      <td>0.022070</td>\n",
       "      <td>-0.140026</td>\n",
       "      <td>-0.000571</td>\n",
       "      <td>0.112448</td>\n",
       "      <td>0.368916</td>\n",
       "      <td>0.029790</td>\n",
       "    </tr>\n",
       "    <tr>\n",
       "      <th>bathrooms</th>\n",
       "      <td>0.520171</td>\n",
       "      <td>0.516568</td>\n",
       "      <td>1.000000</td>\n",
       "      <td>0.760271</td>\n",
       "      <td>0.099698</td>\n",
       "      <td>0.502922</td>\n",
       "      <td>0.075106</td>\n",
       "      <td>0.203287</td>\n",
       "      <td>-0.093770</td>\n",
       "      <td>0.658037</td>\n",
       "      <td>0.684150</td>\n",
       "      <td>0.304048</td>\n",
       "      <td>0.485344</td>\n",
       "      <td>0.066782</td>\n",
       "      <td>-0.204259</td>\n",
       "      <td>0.024225</td>\n",
       "      <td>0.225784</td>\n",
       "      <td>0.578915</td>\n",
       "      <td>0.098202</td>\n",
       "    </tr>\n",
       "    <tr>\n",
       "      <th>sqft_living</th>\n",
       "      <td>0.700905</td>\n",
       "      <td>0.559794</td>\n",
       "      <td>0.760271</td>\n",
       "      <td>1.000000</td>\n",
       "      <td>0.179940</td>\n",
       "      <td>0.399071</td>\n",
       "      <td>0.115926</td>\n",
       "      <td>0.296076</td>\n",
       "      <td>-0.048323</td>\n",
       "      <td>0.767252</td>\n",
       "      <td>0.867284</td>\n",
       "      <td>0.458115</td>\n",
       "      <td>0.325361</td>\n",
       "      <td>0.066638</td>\n",
       "      <td>-0.182957</td>\n",
       "      <td>0.061431</td>\n",
       "      <td>0.221843</td>\n",
       "      <td>0.753796</td>\n",
       "      <td>0.186593</td>\n",
       "    </tr>\n",
       "    <tr>\n",
       "      <th>sqft_lot</th>\n",
       "      <td>0.092417</td>\n",
       "      <td>0.034451</td>\n",
       "      <td>0.099698</td>\n",
       "      <td>0.179940</td>\n",
       "      <td>1.000000</td>\n",
       "      <td>0.024976</td>\n",
       "      <td>0.021209</td>\n",
       "      <td>0.067813</td>\n",
       "      <td>-0.019331</td>\n",
       "      <td>0.130381</td>\n",
       "      <td>0.197069</td>\n",
       "      <td>0.009207</td>\n",
       "      <td>0.091088</td>\n",
       "      <td>0.005113</td>\n",
       "      <td>-0.127755</td>\n",
       "      <td>-0.089428</td>\n",
       "      <td>0.228594</td>\n",
       "      <td>0.159724</td>\n",
       "      <td>0.719525</td>\n",
       "    </tr>\n",
       "    <tr>\n",
       "      <th>floors</th>\n",
       "      <td>0.278254</td>\n",
       "      <td>0.204544</td>\n",
       "      <td>0.502922</td>\n",
       "      <td>0.399071</td>\n",
       "      <td>0.024976</td>\n",
       "      <td>1.000000</td>\n",
       "      <td>0.034459</td>\n",
       "      <td>0.055895</td>\n",
       "      <td>-0.221416</td>\n",
       "      <td>0.461611</td>\n",
       "      <td>0.578717</td>\n",
       "      <td>-0.232526</td>\n",
       "      <td>0.418304</td>\n",
       "      <td>0.035679</td>\n",
       "      <td>-0.081430</td>\n",
       "      <td>0.034156</td>\n",
       "      <td>0.164811</td>\n",
       "      <td>0.328566</td>\n",
       "      <td>0.021043</td>\n",
       "    </tr>\n",
       "    <tr>\n",
       "      <th>waterfront</th>\n",
       "      <td>0.279745</td>\n",
       "      <td>-0.001665</td>\n",
       "      <td>0.075106</td>\n",
       "      <td>0.115926</td>\n",
       "      <td>0.021209</td>\n",
       "      <td>0.034459</td>\n",
       "      <td>1.000000</td>\n",
       "      <td>0.403137</td>\n",
       "      <td>0.010821</td>\n",
       "      <td>0.090393</td>\n",
       "      <td>0.083426</td>\n",
       "      <td>0.083667</td>\n",
       "      <td>-0.016000</td>\n",
       "      <td>0.084899</td>\n",
       "      <td>0.032573</td>\n",
       "      <td>-0.013097</td>\n",
       "      <td>-0.042467</td>\n",
       "      <td>0.093240</td>\n",
       "      <td>0.031511</td>\n",
       "    </tr>\n",
       "    <tr>\n",
       "      <th>view</th>\n",
       "      <td>0.404975</td>\n",
       "      <td>0.083943</td>\n",
       "      <td>0.203287</td>\n",
       "      <td>0.296076</td>\n",
       "      <td>0.067813</td>\n",
       "      <td>0.055895</td>\n",
       "      <td>0.403137</td>\n",
       "      <td>1.000000</td>\n",
       "      <td>0.040421</td>\n",
       "      <td>0.264660</td>\n",
       "      <td>0.180048</td>\n",
       "      <td>0.272654</td>\n",
       "      <td>-0.036637</td>\n",
       "      <td>0.098878</td>\n",
       "      <td>0.088183</td>\n",
       "      <td>0.004206</td>\n",
       "      <td>-0.083122</td>\n",
       "      <td>0.293376</td>\n",
       "      <td>0.063306</td>\n",
       "    </tr>\n",
       "    <tr>\n",
       "      <th>condition</th>\n",
       "      <td>0.046763</td>\n",
       "      <td>0.033362</td>\n",
       "      <td>-0.093770</td>\n",
       "      <td>-0.048323</td>\n",
       "      <td>-0.019331</td>\n",
       "      <td>-0.221416</td>\n",
       "      <td>0.010821</td>\n",
       "      <td>0.040421</td>\n",
       "      <td>1.000000</td>\n",
       "      <td>-0.124930</td>\n",
       "      <td>-0.147271</td>\n",
       "      <td>0.165994</td>\n",
       "      <td>-0.317662</td>\n",
       "      <td>-0.075130</td>\n",
       "      <td>-0.002727</td>\n",
       "      <td>-0.017456</td>\n",
       "      <td>-0.109452</td>\n",
       "      <td>-0.090664</td>\n",
       "      <td>-0.018593</td>\n",
       "    </tr>\n",
       "    <tr>\n",
       "      <th>grade</th>\n",
       "      <td>0.662290</td>\n",
       "      <td>0.351915</td>\n",
       "      <td>0.658037</td>\n",
       "      <td>0.767252</td>\n",
       "      <td>0.130381</td>\n",
       "      <td>0.461611</td>\n",
       "      <td>0.090393</td>\n",
       "      <td>0.264660</td>\n",
       "      <td>-0.124930</td>\n",
       "      <td>1.000000</td>\n",
       "      <td>0.762026</td>\n",
       "      <td>0.179000</td>\n",
       "      <td>0.434356</td>\n",
       "      <td>0.023467</td>\n",
       "      <td>-0.190055</td>\n",
       "      <td>0.112684</td>\n",
       "      <td>0.209345</td>\n",
       "      <td>0.737544</td>\n",
       "      <td>0.132619</td>\n",
       "    </tr>\n",
       "    <tr>\n",
       "      <th>sqft_above</th>\n",
       "      <td>0.603312</td>\n",
       "      <td>0.451997</td>\n",
       "      <td>0.684150</td>\n",
       "      <td>0.867284</td>\n",
       "      <td>0.197069</td>\n",
       "      <td>0.578717</td>\n",
       "      <td>0.083426</td>\n",
       "      <td>0.180048</td>\n",
       "      <td>-0.147271</td>\n",
       "      <td>0.762026</td>\n",
       "      <td>1.000000</td>\n",
       "      <td>-0.045187</td>\n",
       "      <td>0.427424</td>\n",
       "      <td>0.038237</td>\n",
       "      <td>-0.245834</td>\n",
       "      <td>0.008545</td>\n",
       "      <td>0.332052</td>\n",
       "      <td>0.729363</td>\n",
       "      <td>0.205385</td>\n",
       "    </tr>\n",
       "    <tr>\n",
       "      <th>sqft_basement</th>\n",
       "      <td>0.329258</td>\n",
       "      <td>0.316274</td>\n",
       "      <td>0.304048</td>\n",
       "      <td>0.458115</td>\n",
       "      <td>0.009207</td>\n",
       "      <td>-0.232526</td>\n",
       "      <td>0.083667</td>\n",
       "      <td>0.272654</td>\n",
       "      <td>0.165994</td>\n",
       "      <td>0.179000</td>\n",
       "      <td>-0.045187</td>\n",
       "      <td>1.000000</td>\n",
       "      <td>-0.110293</td>\n",
       "      <td>0.065450</td>\n",
       "      <td>0.071814</td>\n",
       "      <td>0.108017</td>\n",
       "      <td>-0.147730</td>\n",
       "      <td>0.210322</td>\n",
       "      <td>0.007707</td>\n",
       "    </tr>\n",
       "    <tr>\n",
       "      <th>yr_built</th>\n",
       "      <td>0.036825</td>\n",
       "      <td>0.161967</td>\n",
       "      <td>0.485344</td>\n",
       "      <td>0.325361</td>\n",
       "      <td>0.091088</td>\n",
       "      <td>0.418304</td>\n",
       "      <td>-0.016000</td>\n",
       "      <td>-0.036637</td>\n",
       "      <td>-0.317662</td>\n",
       "      <td>0.434356</td>\n",
       "      <td>0.427424</td>\n",
       "      <td>-0.110293</td>\n",
       "      <td>1.000000</td>\n",
       "      <td>-0.216708</td>\n",
       "      <td>-0.385059</td>\n",
       "      <td>-0.166016</td>\n",
       "      <td>0.462060</td>\n",
       "      <td>0.349333</td>\n",
       "      <td>0.111016</td>\n",
       "    </tr>\n",
       "    <tr>\n",
       "      <th>yr_renovated</th>\n",
       "      <td>0.134056</td>\n",
       "      <td>0.022070</td>\n",
       "      <td>0.066782</td>\n",
       "      <td>0.066638</td>\n",
       "      <td>0.005113</td>\n",
       "      <td>0.035679</td>\n",
       "      <td>0.084899</td>\n",
       "      <td>0.098878</td>\n",
       "      <td>-0.075130</td>\n",
       "      <td>0.023467</td>\n",
       "      <td>0.038237</td>\n",
       "      <td>0.065450</td>\n",
       "      <td>-0.216708</td>\n",
       "      <td>1.000000</td>\n",
       "      <td>0.066079</td>\n",
       "      <td>0.031490</td>\n",
       "      <td>-0.071480</td>\n",
       "      <td>0.002288</td>\n",
       "      <td>0.005207</td>\n",
       "    </tr>\n",
       "    <tr>\n",
       "      <th>zipcode</th>\n",
       "      <td>-0.046708</td>\n",
       "      <td>-0.140026</td>\n",
       "      <td>-0.204259</td>\n",
       "      <td>-0.182957</td>\n",
       "      <td>-0.127755</td>\n",
       "      <td>-0.081430</td>\n",
       "      <td>0.032573</td>\n",
       "      <td>0.088183</td>\n",
       "      <td>-0.002727</td>\n",
       "      <td>-0.190055</td>\n",
       "      <td>-0.245834</td>\n",
       "      <td>0.071814</td>\n",
       "      <td>-0.385059</td>\n",
       "      <td>0.066079</td>\n",
       "      <td>1.000000</td>\n",
       "      <td>0.260553</td>\n",
       "      <td>-0.560457</td>\n",
       "      <td>-0.262958</td>\n",
       "      <td>-0.146775</td>\n",
       "    </tr>\n",
       "    <tr>\n",
       "      <th>lat</th>\n",
       "      <td>0.306885</td>\n",
       "      <td>-0.000571</td>\n",
       "      <td>0.024225</td>\n",
       "      <td>0.061431</td>\n",
       "      <td>-0.089428</td>\n",
       "      <td>0.034156</td>\n",
       "      <td>-0.013097</td>\n",
       "      <td>0.004206</td>\n",
       "      <td>-0.017456</td>\n",
       "      <td>0.112684</td>\n",
       "      <td>0.008545</td>\n",
       "      <td>0.108017</td>\n",
       "      <td>-0.166016</td>\n",
       "      <td>0.031490</td>\n",
       "      <td>0.260553</td>\n",
       "      <td>1.000000</td>\n",
       "      <td>-0.125519</td>\n",
       "      <td>0.067122</td>\n",
       "      <td>-0.088895</td>\n",
       "    </tr>\n",
       "    <tr>\n",
       "      <th>long</th>\n",
       "      <td>0.015396</td>\n",
       "      <td>0.112448</td>\n",
       "      <td>0.225784</td>\n",
       "      <td>0.221843</td>\n",
       "      <td>0.228594</td>\n",
       "      <td>0.164811</td>\n",
       "      <td>-0.042467</td>\n",
       "      <td>-0.083122</td>\n",
       "      <td>-0.109452</td>\n",
       "      <td>0.209345</td>\n",
       "      <td>0.332052</td>\n",
       "      <td>-0.147730</td>\n",
       "      <td>0.462060</td>\n",
       "      <td>-0.071480</td>\n",
       "      <td>-0.560457</td>\n",
       "      <td>-0.125519</td>\n",
       "      <td>1.000000</td>\n",
       "      <td>0.311162</td>\n",
       "      <td>0.259031</td>\n",
       "    </tr>\n",
       "    <tr>\n",
       "      <th>sqft_living15</th>\n",
       "      <td>0.598540</td>\n",
       "      <td>0.368916</td>\n",
       "      <td>0.578915</td>\n",
       "      <td>0.753796</td>\n",
       "      <td>0.159724</td>\n",
       "      <td>0.328566</td>\n",
       "      <td>0.093240</td>\n",
       "      <td>0.293376</td>\n",
       "      <td>-0.090664</td>\n",
       "      <td>0.737544</td>\n",
       "      <td>0.729363</td>\n",
       "      <td>0.210322</td>\n",
       "      <td>0.349333</td>\n",
       "      <td>0.002288</td>\n",
       "      <td>-0.262958</td>\n",
       "      <td>0.067122</td>\n",
       "      <td>0.311162</td>\n",
       "      <td>1.000000</td>\n",
       "      <td>0.192622</td>\n",
       "    </tr>\n",
       "    <tr>\n",
       "      <th>sqft_lot15</th>\n",
       "      <td>0.080679</td>\n",
       "      <td>0.029790</td>\n",
       "      <td>0.098202</td>\n",
       "      <td>0.186593</td>\n",
       "      <td>0.719525</td>\n",
       "      <td>0.021043</td>\n",
       "      <td>0.031511</td>\n",
       "      <td>0.063306</td>\n",
       "      <td>-0.018593</td>\n",
       "      <td>0.132619</td>\n",
       "      <td>0.205385</td>\n",
       "      <td>0.007707</td>\n",
       "      <td>0.111016</td>\n",
       "      <td>0.005207</td>\n",
       "      <td>-0.146775</td>\n",
       "      <td>-0.088895</td>\n",
       "      <td>0.259031</td>\n",
       "      <td>0.192622</td>\n",
       "      <td>1.000000</td>\n",
       "    </tr>\n",
       "  </tbody>\n",
       "</table>\n",
       "</div>"
      ],
      "text/plain": [
       "                  price  bedrooms  bathrooms  sqft_living  sqft_lot    floors  \\\n",
       "price          1.000000  0.297623   0.520171     0.700905  0.092417  0.278254   \n",
       "bedrooms       0.297623  1.000000   0.516568     0.559794  0.034451  0.204544   \n",
       "bathrooms      0.520171  0.516568   1.000000     0.760271  0.099698  0.502922   \n",
       "sqft_living    0.700905  0.559794   0.760271     1.000000  0.179940  0.399071   \n",
       "sqft_lot       0.092417  0.034451   0.099698     0.179940  1.000000  0.024976   \n",
       "floors         0.278254  0.204544   0.502922     0.399071  0.024976  1.000000   \n",
       "waterfront     0.279745 -0.001665   0.075106     0.115926  0.021209  0.034459   \n",
       "view           0.404975  0.083943   0.203287     0.296076  0.067813  0.055895   \n",
       "condition      0.046763  0.033362  -0.093770    -0.048323 -0.019331 -0.221416   \n",
       "grade          0.662290  0.351915   0.658037     0.767252  0.130381  0.461611   \n",
       "sqft_above     0.603312  0.451997   0.684150     0.867284  0.197069  0.578717   \n",
       "sqft_basement  0.329258  0.316274   0.304048     0.458115  0.009207 -0.232526   \n",
       "yr_built       0.036825  0.161967   0.485344     0.325361  0.091088  0.418304   \n",
       "yr_renovated   0.134056  0.022070   0.066782     0.066638  0.005113  0.035679   \n",
       "zipcode       -0.046708 -0.140026  -0.204259    -0.182957 -0.127755 -0.081430   \n",
       "lat            0.306885 -0.000571   0.024225     0.061431 -0.089428  0.034156   \n",
       "long           0.015396  0.112448   0.225784     0.221843  0.228594  0.164811   \n",
       "sqft_living15  0.598540  0.368916   0.578915     0.753796  0.159724  0.328566   \n",
       "sqft_lot15     0.080679  0.029790   0.098202     0.186593  0.719525  0.021043   \n",
       "\n",
       "               waterfront      view  condition     grade  sqft_above  \\\n",
       "price            0.279745  0.404975   0.046763  0.662290    0.603312   \n",
       "bedrooms        -0.001665  0.083943   0.033362  0.351915    0.451997   \n",
       "bathrooms        0.075106  0.203287  -0.093770  0.658037    0.684150   \n",
       "sqft_living      0.115926  0.296076  -0.048323  0.767252    0.867284   \n",
       "sqft_lot         0.021209  0.067813  -0.019331  0.130381    0.197069   \n",
       "floors           0.034459  0.055895  -0.221416  0.461611    0.578717   \n",
       "waterfront       1.000000  0.403137   0.010821  0.090393    0.083426   \n",
       "view             0.403137  1.000000   0.040421  0.264660    0.180048   \n",
       "condition        0.010821  0.040421   1.000000 -0.124930   -0.147271   \n",
       "grade            0.090393  0.264660  -0.124930  1.000000    0.762026   \n",
       "sqft_above       0.083426  0.180048  -0.147271  0.762026    1.000000   \n",
       "sqft_basement    0.083667  0.272654   0.165994  0.179000   -0.045187   \n",
       "yr_built        -0.016000 -0.036637  -0.317662  0.434356    0.427424   \n",
       "yr_renovated     0.084899  0.098878  -0.075130  0.023467    0.038237   \n",
       "zipcode          0.032573  0.088183  -0.002727 -0.190055   -0.245834   \n",
       "lat             -0.013097  0.004206  -0.017456  0.112684    0.008545   \n",
       "long            -0.042467 -0.083122  -0.109452  0.209345    0.332052   \n",
       "sqft_living15    0.093240  0.293376  -0.090664  0.737544    0.729363   \n",
       "sqft_lot15       0.031511  0.063306  -0.018593  0.132619    0.205385   \n",
       "\n",
       "               sqft_basement  yr_built  yr_renovated   zipcode       lat  \\\n",
       "price               0.329258  0.036825      0.134056 -0.046708  0.306885   \n",
       "bedrooms            0.316274  0.161967      0.022070 -0.140026 -0.000571   \n",
       "bathrooms           0.304048  0.485344      0.066782 -0.204259  0.024225   \n",
       "sqft_living         0.458115  0.325361      0.066638 -0.182957  0.061431   \n",
       "sqft_lot            0.009207  0.091088      0.005113 -0.127755 -0.089428   \n",
       "floors             -0.232526  0.418304      0.035679 -0.081430  0.034156   \n",
       "waterfront          0.083667 -0.016000      0.084899  0.032573 -0.013097   \n",
       "view                0.272654 -0.036637      0.098878  0.088183  0.004206   \n",
       "condition           0.165994 -0.317662     -0.075130 -0.002727 -0.017456   \n",
       "grade               0.179000  0.434356      0.023467 -0.190055  0.112684   \n",
       "sqft_above         -0.045187  0.427424      0.038237 -0.245834  0.008545   \n",
       "sqft_basement       1.000000 -0.110293      0.065450  0.071814  0.108017   \n",
       "yr_built           -0.110293  1.000000     -0.216708 -0.385059 -0.166016   \n",
       "yr_renovated        0.065450 -0.216708      1.000000  0.066079  0.031490   \n",
       "zipcode             0.071814 -0.385059      0.066079  1.000000  0.260553   \n",
       "lat                 0.108017 -0.166016      0.031490  0.260553  1.000000   \n",
       "long               -0.147730  0.462060     -0.071480 -0.560457 -0.125519   \n",
       "sqft_living15       0.210322  0.349333      0.002288 -0.262958  0.067122   \n",
       "sqft_lot15          0.007707  0.111016      0.005207 -0.146775 -0.088895   \n",
       "\n",
       "                   long  sqft_living15  sqft_lot15  \n",
       "price          0.015396       0.598540    0.080679  \n",
       "bedrooms       0.112448       0.368916    0.029790  \n",
       "bathrooms      0.225784       0.578915    0.098202  \n",
       "sqft_living    0.221843       0.753796    0.186593  \n",
       "sqft_lot       0.228594       0.159724    0.719525  \n",
       "floors         0.164811       0.328566    0.021043  \n",
       "waterfront    -0.042467       0.093240    0.031511  \n",
       "view          -0.083122       0.293376    0.063306  \n",
       "condition     -0.109452      -0.090664   -0.018593  \n",
       "grade          0.209345       0.737544    0.132619  \n",
       "sqft_above     0.332052       0.729363    0.205385  \n",
       "sqft_basement -0.147730       0.210322    0.007707  \n",
       "yr_built       0.462060       0.349333    0.111016  \n",
       "yr_renovated  -0.071480       0.002288    0.005207  \n",
       "zipcode       -0.560457      -0.262958   -0.146775  \n",
       "lat           -0.125519       0.067122   -0.088895  \n",
       "long           1.000000       0.311162    0.259031  \n",
       "sqft_living15  0.311162       1.000000    0.192622  \n",
       "sqft_lot15     0.259031       0.192622    1.000000  "
      ]
     },
     "execution_count": 149,
     "metadata": {},
     "output_type": "execute_result"
    }
   ],
   "source": [
    "df.corr()"
   ]
  },
  {
   "cell_type": "code",
   "execution_count": 150,
   "metadata": {},
   "outputs": [
    {
     "data": {
      "text/plain": [
       "<matplotlib.axes._subplots.AxesSubplot at 0x24e558bb4e0>"
      ]
     },
     "execution_count": 150,
     "metadata": {},
     "output_type": "execute_result"
    },
    {
     "data": {
      "image/png": "[encoded data removed]",
      "text/plain": [
       "<Figure size 1080x720 with 1 Axes>"
      ]
     },
     "metadata": {
      "needs_background": "light"
     },
     "output_type": "display_data"
    }
   ],
   "source": [
    "plt.figure(figsize=(15,10))\n",
    "df.corr()[\"price\"].sort_values(ascending=False).plot(kind=\"bar\")"
   ]
  },
  {
   "cell_type": "code",
   "execution_count": 151,
   "metadata": {},
   "outputs": [
    {
     "data": {
      "text/plain": [
       "<matplotlib.axes._subplots.AxesSubplot at 0x24e558bb5c0>"
      ]
     },
     "execution_count": 151,
     "metadata": {},
     "output_type": "execute_result"
    },
    {
     "data": {
      "image/png": "[encoded data removed]",
      "text/plain": [
       "<Figure size 432x288 with 1 Axes>"
      ]
     },
     "metadata": {
      "needs_background": "light"
     },
     "output_type": "display_data"
    }
   ],
   "source": [
    "sns.distplot(df[\"price\"])"
   ]
  },
  {
   "cell_type": "code",
   "execution_count": 152,
   "metadata": {
    "scrolled": true
   },
   "outputs": [
    {
     "data": {
      "text/plain": [
       "<matplotlib.axes._subplots.AxesSubplot at 0x24e558b66d8>"
      ]
     },
     "execution_count": 152,
     "metadata": {},
     "output_type": "execute_result"
    },
    {
     "data": {
      "image/png": "[encoded data removed]",
      "text/plain": [
       "<Figure size 432x288 with 1 Axes>"
      ]
     },
     "metadata": {
      "needs_background": "light"
     },
     "output_type": "display_data"
    }
   ],
   "source": [
    "df[\"price\"]=df[\"price\"].apply(lambda x: np.log(x))\n",
    "sns.distplot(df[\"price\"])"
   ]
  },
  {
   "cell_type": "code",
   "execution_count": 153,
   "metadata": {},
   "outputs": [
    {
     "data": {
      "text/plain": [
       "0        12.309982\n",
       "1        13.195614\n",
       "2        12.100712\n",
       "3        13.311329\n",
       "4        13.142166\n",
       "           ...    \n",
       "16608    12.409013\n",
       "16609    12.524526\n",
       "16610    12.506177\n",
       "16611    13.550568\n",
       "16612    12.341477\n",
       "Name: price, Length: 16613, dtype: float64"
      ]
     },
     "execution_count": 153,
     "metadata": {},
     "output_type": "execute_result"
    }
   ],
   "source": [
    "df[\"price\"]"
   ]
  },
  {
   "cell_type": "code",
   "execution_count": 154,
   "metadata": {},
   "outputs": [
    {
     "data": {
      "text/plain": [
       "Index(['price', 'bedrooms', 'bathrooms', 'sqft_living', 'sqft_lot', 'floors',\n",
       "       'waterfront', 'view', 'condition', 'grade', 'sqft_above',\n",
       "       'sqft_basement', 'yr_built', 'yr_renovated', 'zipcode', 'lat', 'long',\n",
       "       'sqft_living15', 'sqft_lot15'],\n",
       "      dtype='object')"
      ]
     },
     "execution_count": 154,
     "metadata": {},
     "output_type": "execute_result"
    }
   ],
   "source": [
    "df.columns"
   ]
  },
  {
   "cell_type": "code",
   "execution_count": 155,
   "metadata": {},
   "outputs": [
    {
     "data": {
      "text/plain": [
       "<matplotlib.axes._subplots.AxesSubplot at 0x24e5a6dd470>"
      ]
     },
     "execution_count": 155,
     "metadata": {},
     "output_type": "execute_result"
    },
    {
     "data": {
      "image/png": "[encoded data removed]",
      "text/plain": [
       "<Figure size 432x288 with 1 Axes>"
      ]
     },
     "metadata": {
      "needs_background": "light"
     },
     "output_type": "display_data"
    }
   ],
   "source": [
    "df.bedrooms.value_counts().plot(kind=\"bar\",rot=0,color=\"blue\")"
   ]
  },
  {
   "cell_type": "code",
   "execution_count": 156,
   "metadata": {},
   "outputs": [
    {
     "data": {
      "text/plain": [
       "<matplotlib.axes._subplots.AxesSubplot at 0x24e5a6449b0>"
      ]
     },
     "execution_count": 156,
     "metadata": {},
     "output_type": "execute_result"
    },
    {
     "data": {
      "image/png": "[encoded data removed]",
      "text/plain": [
       "<Figure size 720x576 with 1 Axes>"
      ]
     },
     "metadata": {
      "needs_background": "light"
     },
     "output_type": "display_data"
    }
   ],
   "source": [
    "plt.figure(figsize=(10,8))\n",
    "df.bathrooms.value_counts().plot(kind=\"bar\",color=\"green\")"
   ]
  },
  {
   "cell_type": "code",
   "execution_count": 157,
   "metadata": {},
   "outputs": [
    {
     "data": {
      "text/plain": [
       "<matplotlib.axes._subplots.AxesSubplot at 0x24e5a80de48>"
      ]
     },
     "execution_count": 157,
     "metadata": {},
     "output_type": "execute_result"
    },
    {
     "data": {
      "image/png": "[encoded data removed]",
      "text/plain": [
       "<Figure size 432x288 with 1 Axes>"
      ]
     },
     "metadata": {
      "needs_background": "light"
     },
     "output_type": "display_data"
    }
   ],
   "source": [
    "df.floors.value_counts().plot(kind=\"bar\")"
   ]
  },
  {
   "cell_type": "code",
   "execution_count": 158,
   "metadata": {},
   "outputs": [
    {
     "data": {
      "text/plain": [
       "<matplotlib.axes._subplots.AxesSubplot at 0x24e5a86c710>"
      ]
     },
     "execution_count": 158,
     "metadata": {},
     "output_type": "execute_result"
    },
    {
     "data": {
      "image/png": "[encoded data removed]",
      "text/plain": [
       "<Figure size 432x288 with 1 Axes>"
      ]
     },
     "metadata": {
      "needs_background": "light"
     },
     "output_type": "display_data"
    }
   ],
   "source": [
    "df.condition.value_counts().plot(kind=\"bar\")"
   ]
  },
  {
   "cell_type": "code",
   "execution_count": 159,
   "metadata": {},
   "outputs": [
    {
     "data": {
      "text/plain": [
       "Index(['price', 'bedrooms', 'bathrooms', 'sqft_living', 'sqft_lot', 'floors',\n",
       "       'waterfront', 'view', 'condition', 'grade', 'sqft_above',\n",
       "       'sqft_basement', 'yr_built', 'yr_renovated', 'zipcode', 'lat', 'long',\n",
       "       'sqft_living15', 'sqft_lot15'],\n",
       "      dtype='object')"
      ]
     },
     "execution_count": 159,
     "metadata": {},
     "output_type": "execute_result"
    }
   ],
   "source": [
    "df.columns"
   ]
  },
  {
   "cell_type": "code",
   "execution_count": 160,
   "metadata": {},
   "outputs": [
    {
     "data": {
      "image/png": "[encoded data removed]",
      "text/plain": [
       "<Figure size 720x720 with 3 Axes>"
      ]
     },
     "metadata": {
      "needs_background": "light"
     },
     "output_type": "display_data"
    }
   ],
   "source": [
    "fig,(ax1,ax2,ax3)=plt.subplots(nrows=1,ncols=3,sharey=True,figsize=(10,10))\n",
    "ax=df.grade.value_counts().plot(kind=\"bar\",color=\"blue\",ax=ax1)\n",
    "ax.set_xlabel(\"grade\")\n",
    "ax.set_ylabel(\"price of houses\")\n",
    "ax.set_title(\"grades of the houses\")\n",
    "ax=df.view.value_counts().plot(kind=\"bar\",color=\"orange\",ax=ax2)\n",
    "ax.set_xlabel(\"view\")\n",
    "ax.set_title(\"view of the house\")\n",
    "ax=df.waterfront.value_counts().plot(kind=\"bar\",color=\"green\",ax=ax3)\n",
    "ax.set_xlabel(\"waterfront\")\n",
    "ax.set_title(\"waterfront of the house\")\n",
    "plt.show()\n",
    "\n",
    "    "
   ]
  },
  {
   "cell_type": "code",
   "execution_count": 161,
   "metadata": {},
   "outputs": [
    {
     "data": {
      "text/plain": [
       "0    99.205442\n",
       "1     0.794558\n",
       "Name: waterfront, dtype: float64"
      ]
     },
     "execution_count": 161,
     "metadata": {},
     "output_type": "execute_result"
    }
   ],
   "source": [
    "(df.waterfront.value_counts()/len(df)*100)"
   ]
  },
  {
   "cell_type": "code",
   "execution_count": 162,
   "metadata": {},
   "outputs": [
    {
     "data": {
      "text/plain": [
       "Index(['price', 'bedrooms', 'bathrooms', 'sqft_living', 'sqft_lot', 'floors',\n",
       "       'waterfront', 'view', 'condition', 'grade', 'sqft_above',\n",
       "       'sqft_basement', 'yr_built', 'yr_renovated', 'zipcode', 'lat', 'long',\n",
       "       'sqft_living15', 'sqft_lot15'],\n",
       "      dtype='object')"
      ]
     },
     "execution_count": 162,
     "metadata": {},
     "output_type": "execute_result"
    }
   ],
   "source": [
    "df.columns"
   ]
  },
  {
   "cell_type": "code",
   "execution_count": 163,
   "metadata": {},
   "outputs": [],
   "source": [
    "list_1=['bedrooms', 'bathrooms','sqft_living', 'sqft_lot','sqft_above','sqft_basement', 'yr_built', 'yr_renovated',\n",
    "        'zipcode', 'lat', 'long','sqft_living15', 'sqft_lot15']"
   ]
  },
  {
   "cell_type": "code",
   "execution_count": 164,
   "metadata": {},
   "outputs": [
    {
     "data": {
      "image/png": "[encoded data removed]",
      "text/plain": [
       "<Figure size 720x720 with 4 Axes>"
      ]
     },
     "metadata": {
      "needs_background": "light"
     },
     "output_type": "display_data"
    }
   ],
   "source": [
    "fig,axs=plt.subplots(nrows=2,ncols=2,sharey=True,figsize=(10,10))\n",
    "axs[0,0].scatter(df[\"sqft_living\"],df[\"price\"])\n",
    "axs[0,1].scatter(df[\"sqft_lot\"],df[\"price\"])\n",
    "axs[1,0].scatter(df[\"sqft_above\"],df[\"price\"])\n",
    "axs[1,1].scatter(df[\"sqft_basement\"],df[\"price\"])\n",
    "plt.show()\n"
   ]
  },
  {
   "cell_type": "code",
   "execution_count": 165,
   "metadata": {
    "scrolled": false
   },
   "outputs": [
    {
     "name": "stdout",
     "output_type": "stream",
     "text": [
      "bedrooms\n"
     ]
    },
    {
     "data": {
      "image/png": "[encoded data removed]",
      "text/plain": [
       "<Figure size 432x288 with 1 Axes>"
      ]
     },
     "metadata": {
      "needs_background": "light"
     },
     "output_type": "display_data"
    },
    {
     "name": "stdout",
     "output_type": "stream",
     "text": [
      "bathrooms\n"
     ]
    },
    {
     "data": {
      "image/png": "[encoded data removed]",
      "text/plain": [
       "<Figure size 432x288 with 1 Axes>"
      ]
     },
     "metadata": {
      "needs_background": "light"
     },
     "output_type": "display_data"
    },
    {
     "name": "stdout",
     "output_type": "stream",
     "text": [
      "sqft_living\n"
     ]
    },
    {
     "data": {
      "image/png": "[encoded data removed]",
      "text/plain": [
       "<Figure size 432x288 with 1 Axes>"
      ]
     },
     "metadata": {
      "needs_background": "light"
     },
     "output_type": "display_data"
    },
    {
     "name": "stdout",
     "output_type": "stream",
     "text": [
      "sqft_lot\n"
     ]
    },
    {
     "data": {
      "image/png": "[encoded data removed]",
      "text/plain": [
       "<Figure size 432x288 with 1 Axes>"
      ]
     },
     "metadata": {
      "needs_background": "light"
     },
     "output_type": "display_data"
    },
    {
     "name": "stdout",
     "output_type": "stream",
     "text": [
      "sqft_above\n"
     ]
    },
    {
     "data": {
      "image/png": "[encoded data removed]",
      "text/plain": [
       "<Figure size 432x288 with 1 Axes>"
      ]
     },
     "metadata": {
      "needs_background": "light"
     },
     "output_type": "display_data"
    },
    {
     "name": "stdout",
     "output_type": "stream",
     "text": [
      "sqft_basement\n"
     ]
    },
    {
     "data": {
      "image/png": "[encoded data removed]",
      "text/plain": [
       "<Figure size 432x288 with 1 Axes>"
      ]
     },
     "metadata": {
      "needs_background": "light"
     },
     "output_type": "display_data"
    },
    {
     "name": "stdout",
     "output_type": "stream",
     "text": [
      "yr_built\n"
     ]
    },
    {
     "data": {
      "image/png": "[encoded data removed]",
      "text/plain": [
       "<Figure size 432x288 with 1 Axes>"
      ]
     },
     "metadata": {
      "needs_background": "light"
     },
     "output_type": "display_data"
    },
    {
     "name": "stdout",
     "output_type": "stream",
     "text": [
      "yr_renovated\n"
     ]
    },
    {
     "data": {
      "image/png": "[encoded data removed]",
      "text/plain": [
       "<Figure size 432x288 with 1 Axes>"
      ]
     },
     "metadata": {
      "needs_background": "light"
     },
     "output_type": "display_data"
    },
    {
     "name": "stdout",
     "output_type": "stream",
     "text": [
      "zipcode\n"
     ]
    },
    {
     "data": {
      "image/png": "[encoded data removed]",
      "text/plain": [
       "<Figure size 432x288 with 1 Axes>"
      ]
     },
     "metadata": {
      "needs_background": "light"
     },
     "output_type": "display_data"
    },
    {
     "name": "stdout",
     "output_type": "stream",
     "text": [
      "lat\n"
     ]
    },
    {
     "data": {
      "image/png": "[encoded data removed]",
      "text/plain": [
       "<Figure size 432x288 with 1 Axes>"
      ]
     },
     "metadata": {
      "needs_background": "light"
     },
     "output_type": "display_data"
    },
    {
     "name": "stdout",
     "output_type": "stream",
     "text": [
      "long\n"
     ]
    },
    {
     "data": {
      "image/png": "[encoded data removed]",
      "text/plain": [
       "<Figure size 432x288 with 1 Axes>"
      ]
     },
     "metadata": {
      "needs_background": "light"
     },
     "output_type": "display_data"
    },
    {
     "name": "stdout",
     "output_type": "stream",
     "text": [
      "sqft_living15\n"
     ]
    },
    {
     "data": {
      "image/png": "[encoded data removed]",
      "text/plain": [
       "<Figure size 432x288 with 1 Axes>"
      ]
     },
     "metadata": {
      "needs_background": "light"
     },
     "output_type": "display_data"
    },
    {
     "name": "stdout",
     "output_type": "stream",
     "text": [
      "sqft_lot15\n"
     ]
    },
    {
     "data": {
      "image/png": "[encoded data removed]",
      "text/plain": [
       "<Figure size 432x288 with 1 Axes>"
      ]
     },
     "metadata": {
      "needs_background": "light"
     },
     "output_type": "display_data"
    }
   ],
   "source": [
    "for i in list_1:\n",
    "    print(i)\n",
    "    sns.boxplot(df[i])   \n",
    "    plt.show()\n"
   ]
  },
  {
   "cell_type": "code",
   "execution_count": 232,
   "metadata": {
    "scrolled": true
   },
   "outputs": [
    {
     "data": {
      "text/html": [
       "<div>\n",
       "<style scoped>\n",
       "    .dataframe tbody tr th:only-of-type {\n",
       "        vertical-align: middle;\n",
       "    }\n",
       "\n",
       "    .dataframe tbody tr th {\n",
       "        vertical-align: top;\n",
       "    }\n",
       "\n",
       "    .dataframe thead th {\n",
       "        text-align: right;\n",
       "    }\n",
       "</style>\n",
       "<table border=\"1\" class=\"dataframe\">\n",
       "  <thead>\n",
       "    <tr style=\"text-align: right;\">\n",
       "      <th></th>\n",
       "      <th>price</th>\n",
       "      <th>bedrooms</th>\n",
       "      <th>bathrooms</th>\n",
       "      <th>sqft_living</th>\n",
       "      <th>sqft_lot</th>\n",
       "      <th>floors</th>\n",
       "      <th>waterfront</th>\n",
       "      <th>view</th>\n",
       "      <th>condition</th>\n",
       "      <th>grade</th>\n",
       "      <th>sqft_above</th>\n",
       "      <th>sqft_basement</th>\n",
       "      <th>yr_built</th>\n",
       "      <th>yr_renovated</th>\n",
       "      <th>zipcode</th>\n",
       "      <th>lat</th>\n",
       "      <th>long</th>\n",
       "      <th>sqft_living15</th>\n",
       "      <th>sqft_lot15</th>\n",
       "    </tr>\n",
       "  </thead>\n",
       "  <tbody>\n",
       "    <tr>\n",
       "      <th>0</th>\n",
       "      <td>12.309982</td>\n",
       "      <td>3</td>\n",
       "      <td>1.00</td>\n",
       "      <td>1180</td>\n",
       "      <td>5650</td>\n",
       "      <td>1.0</td>\n",
       "      <td>0</td>\n",
       "      <td>0</td>\n",
       "      <td>3</td>\n",
       "      <td>7</td>\n",
       "      <td>1180</td>\n",
       "      <td>0</td>\n",
       "      <td>1955</td>\n",
       "      <td>0</td>\n",
       "      <td>98178</td>\n",
       "      <td>47.5112</td>\n",
       "      <td>-122.257</td>\n",
       "      <td>1340</td>\n",
       "      <td>5650</td>\n",
       "    </tr>\n",
       "    <tr>\n",
       "      <th>1</th>\n",
       "      <td>13.195614</td>\n",
       "      <td>3</td>\n",
       "      <td>2.25</td>\n",
       "      <td>2570</td>\n",
       "      <td>7242</td>\n",
       "      <td>2.0</td>\n",
       "      <td>0</td>\n",
       "      <td>0</td>\n",
       "      <td>3</td>\n",
       "      <td>7</td>\n",
       "      <td>2170</td>\n",
       "      <td>400</td>\n",
       "      <td>1951</td>\n",
       "      <td>1991</td>\n",
       "      <td>98125</td>\n",
       "      <td>47.7210</td>\n",
       "      <td>-122.319</td>\n",
       "      <td>1690</td>\n",
       "      <td>7639</td>\n",
       "    </tr>\n",
       "    <tr>\n",
       "      <th>2</th>\n",
       "      <td>12.100712</td>\n",
       "      <td>2</td>\n",
       "      <td>1.00</td>\n",
       "      <td>770</td>\n",
       "      <td>10000</td>\n",
       "      <td>1.0</td>\n",
       "      <td>0</td>\n",
       "      <td>0</td>\n",
       "      <td>3</td>\n",
       "      <td>6</td>\n",
       "      <td>770</td>\n",
       "      <td>0</td>\n",
       "      <td>1933</td>\n",
       "      <td>0</td>\n",
       "      <td>98028</td>\n",
       "      <td>47.7379</td>\n",
       "      <td>-122.233</td>\n",
       "      <td>2720</td>\n",
       "      <td>8062</td>\n",
       "    </tr>\n",
       "    <tr>\n",
       "      <th>3</th>\n",
       "      <td>13.311329</td>\n",
       "      <td>4</td>\n",
       "      <td>3.00</td>\n",
       "      <td>1960</td>\n",
       "      <td>5000</td>\n",
       "      <td>1.0</td>\n",
       "      <td>0</td>\n",
       "      <td>0</td>\n",
       "      <td>5</td>\n",
       "      <td>7</td>\n",
       "      <td>1050</td>\n",
       "      <td>910</td>\n",
       "      <td>1965</td>\n",
       "      <td>0</td>\n",
       "      <td>98136</td>\n",
       "      <td>47.5208</td>\n",
       "      <td>-122.393</td>\n",
       "      <td>1360</td>\n",
       "      <td>5000</td>\n",
       "    </tr>\n",
       "    <tr>\n",
       "      <th>4</th>\n",
       "      <td>13.142166</td>\n",
       "      <td>3</td>\n",
       "      <td>2.00</td>\n",
       "      <td>1680</td>\n",
       "      <td>8080</td>\n",
       "      <td>1.0</td>\n",
       "      <td>0</td>\n",
       "      <td>0</td>\n",
       "      <td>3</td>\n",
       "      <td>8</td>\n",
       "      <td>1680</td>\n",
       "      <td>0</td>\n",
       "      <td>1987</td>\n",
       "      <td>0</td>\n",
       "      <td>98074</td>\n",
       "      <td>47.6168</td>\n",
       "      <td>-122.045</td>\n",
       "      <td>1800</td>\n",
       "      <td>7503</td>\n",
       "    </tr>\n",
       "  </tbody>\n",
       "</table>\n",
       "</div>"
      ],
      "text/plain": [
       "       price  bedrooms  bathrooms  sqft_living  sqft_lot  floors  waterfront  \\\n",
       "0  12.309982         3       1.00         1180      5650     1.0           0   \n",
       "1  13.195614         3       2.25         2570      7242     2.0           0   \n",
       "2  12.100712         2       1.00          770     10000     1.0           0   \n",
       "3  13.311329         4       3.00         1960      5000     1.0           0   \n",
       "4  13.142166         3       2.00         1680      8080     1.0           0   \n",
       "\n",
       "   view  condition  grade  sqft_above  sqft_basement  yr_built  yr_renovated  \\\n",
       "0     0          3      7        1180              0      1955             0   \n",
       "1     0          3      7        2170            400      1951          1991   \n",
       "2     0          3      6         770              0      1933             0   \n",
       "3     0          5      7        1050            910      1965             0   \n",
       "4     0          3      8        1680              0      1987             0   \n",
       "\n",
       "   zipcode      lat     long  sqft_living15  sqft_lot15  \n",
       "0    98178  47.5112 -122.257           1340        5650  \n",
       "1    98125  47.7210 -122.319           1690        7639  \n",
       "2    98028  47.7379 -122.233           2720        8062  \n",
       "3    98136  47.5208 -122.393           1360        5000  \n",
       "4    98074  47.6168 -122.045           1800        7503  "
      ]
     },
     "execution_count": 232,
     "metadata": {},
     "output_type": "execute_result"
    }
   ],
   "source": [
    "df2=df[~((df[\"bedrooms\"]>30) & (df[\"price\"]<1000000))]\n",
    "df2.head()"
   ]
  },
  {
   "cell_type": "code",
   "execution_count": 234,
   "metadata": {},
   "outputs": [
    {
     "data": {
      "text/plain": [
       "((16612, 19), (16613, 19))"
      ]
     },
     "execution_count": 234,
     "metadata": {},
     "output_type": "execute_result"
    }
   ],
   "source": [
    "df2.shape,df.shape"
   ]
  },
  {
   "cell_type": "code",
   "execution_count": 166,
   "metadata": {},
   "outputs": [],
   "source": [
    "#df1=df\n",
    "#q1=df1.quantile(0.25)\n",
    "#q3=df1.quantile(0.75)\n",
    "#print(q1,q3)\n",
    "#iqr=q3-q1\n",
    "#print(iqr)"
   ]
  },
  {
   "cell_type": "code",
   "execution_count": 167,
   "metadata": {},
   "outputs": [],
   "source": [
    "#lower_bound=q1-(1.5*iqr)\n",
    "#upper_bound=q3+(1.5*iqr)\n",
    "#print(lower_bound,upper_bound)\n",
    "#upper_bound\n",
    "#lower_bound"
   ]
  },
  {
   "cell_type": "code",
   "execution_count": 168,
   "metadata": {},
   "outputs": [],
   "source": [
    "#print((df1<lower_bound) | (df1>upper_bound))"
   ]
  },
  {
   "cell_type": "code",
   "execution_count": 169,
   "metadata": {},
   "outputs": [],
   "source": [
    "#df1=df1[~(((df1<lower_bound) | (df1>upper_bound))).any(axis=0)]"
   ]
  },
  {
   "cell_type": "code",
   "execution_count": 235,
   "metadata": {
    "scrolled": true
   },
   "outputs": [
    {
     "data": {
      "text/plain": [
       "(16612, 19)"
      ]
     },
     "execution_count": 235,
     "metadata": {},
     "output_type": "execute_result"
    }
   ],
   "source": [
    "df2.shape"
   ]
  },
  {
   "cell_type": "code",
   "execution_count": 236,
   "metadata": {},
   "outputs": [
    {
     "data": {
      "text/html": [
       "<div>\n",
       "<style scoped>\n",
       "    .dataframe tbody tr th:only-of-type {\n",
       "        vertical-align: middle;\n",
       "    }\n",
       "\n",
       "    .dataframe tbody tr th {\n",
       "        vertical-align: top;\n",
       "    }\n",
       "\n",
       "    .dataframe thead th {\n",
       "        text-align: right;\n",
       "    }\n",
       "</style>\n",
       "<table border=\"1\" class=\"dataframe\">\n",
       "  <thead>\n",
       "    <tr style=\"text-align: right;\">\n",
       "      <th></th>\n",
       "      <th>price</th>\n",
       "      <th>bedrooms</th>\n",
       "      <th>bathrooms</th>\n",
       "      <th>sqft_living</th>\n",
       "      <th>sqft_lot</th>\n",
       "      <th>floors</th>\n",
       "      <th>waterfront</th>\n",
       "      <th>view</th>\n",
       "      <th>condition</th>\n",
       "      <th>grade</th>\n",
       "      <th>sqft_above</th>\n",
       "      <th>sqft_basement</th>\n",
       "      <th>yr_built</th>\n",
       "      <th>yr_renovated</th>\n",
       "      <th>zipcode</th>\n",
       "      <th>lat</th>\n",
       "      <th>long</th>\n",
       "      <th>sqft_living15</th>\n",
       "      <th>sqft_lot15</th>\n",
       "    </tr>\n",
       "  </thead>\n",
       "  <tbody>\n",
       "    <tr>\n",
       "      <th>0</th>\n",
       "      <td>12.309982</td>\n",
       "      <td>3</td>\n",
       "      <td>1.00</td>\n",
       "      <td>1180</td>\n",
       "      <td>5650</td>\n",
       "      <td>1.0</td>\n",
       "      <td>0</td>\n",
       "      <td>0</td>\n",
       "      <td>3</td>\n",
       "      <td>7</td>\n",
       "      <td>1180</td>\n",
       "      <td>0</td>\n",
       "      <td>1955</td>\n",
       "      <td>0</td>\n",
       "      <td>98178</td>\n",
       "      <td>47.5112</td>\n",
       "      <td>-122.257</td>\n",
       "      <td>1340</td>\n",
       "      <td>5650</td>\n",
       "    </tr>\n",
       "    <tr>\n",
       "      <th>1</th>\n",
       "      <td>13.195614</td>\n",
       "      <td>3</td>\n",
       "      <td>2.25</td>\n",
       "      <td>2570</td>\n",
       "      <td>7242</td>\n",
       "      <td>2.0</td>\n",
       "      <td>0</td>\n",
       "      <td>0</td>\n",
       "      <td>3</td>\n",
       "      <td>7</td>\n",
       "      <td>2170</td>\n",
       "      <td>400</td>\n",
       "      <td>1951</td>\n",
       "      <td>1991</td>\n",
       "      <td>98125</td>\n",
       "      <td>47.7210</td>\n",
       "      <td>-122.319</td>\n",
       "      <td>1690</td>\n",
       "      <td>7639</td>\n",
       "    </tr>\n",
       "    <tr>\n",
       "      <th>2</th>\n",
       "      <td>12.100712</td>\n",
       "      <td>2</td>\n",
       "      <td>1.00</td>\n",
       "      <td>770</td>\n",
       "      <td>10000</td>\n",
       "      <td>1.0</td>\n",
       "      <td>0</td>\n",
       "      <td>0</td>\n",
       "      <td>3</td>\n",
       "      <td>6</td>\n",
       "      <td>770</td>\n",
       "      <td>0</td>\n",
       "      <td>1933</td>\n",
       "      <td>0</td>\n",
       "      <td>98028</td>\n",
       "      <td>47.7379</td>\n",
       "      <td>-122.233</td>\n",
       "      <td>2720</td>\n",
       "      <td>8062</td>\n",
       "    </tr>\n",
       "    <tr>\n",
       "      <th>3</th>\n",
       "      <td>13.311329</td>\n",
       "      <td>4</td>\n",
       "      <td>3.00</td>\n",
       "      <td>1960</td>\n",
       "      <td>5000</td>\n",
       "      <td>1.0</td>\n",
       "      <td>0</td>\n",
       "      <td>0</td>\n",
       "      <td>5</td>\n",
       "      <td>7</td>\n",
       "      <td>1050</td>\n",
       "      <td>910</td>\n",
       "      <td>1965</td>\n",
       "      <td>0</td>\n",
       "      <td>98136</td>\n",
       "      <td>47.5208</td>\n",
       "      <td>-122.393</td>\n",
       "      <td>1360</td>\n",
       "      <td>5000</td>\n",
       "    </tr>\n",
       "    <tr>\n",
       "      <th>4</th>\n",
       "      <td>13.142166</td>\n",
       "      <td>3</td>\n",
       "      <td>2.00</td>\n",
       "      <td>1680</td>\n",
       "      <td>8080</td>\n",
       "      <td>1.0</td>\n",
       "      <td>0</td>\n",
       "      <td>0</td>\n",
       "      <td>3</td>\n",
       "      <td>8</td>\n",
       "      <td>1680</td>\n",
       "      <td>0</td>\n",
       "      <td>1987</td>\n",
       "      <td>0</td>\n",
       "      <td>98074</td>\n",
       "      <td>47.6168</td>\n",
       "      <td>-122.045</td>\n",
       "      <td>1800</td>\n",
       "      <td>7503</td>\n",
       "    </tr>\n",
       "  </tbody>\n",
       "</table>\n",
       "</div>"
      ],
      "text/plain": [
       "       price  bedrooms  bathrooms  sqft_living  sqft_lot  floors  waterfront  \\\n",
       "0  12.309982         3       1.00         1180      5650     1.0           0   \n",
       "1  13.195614         3       2.25         2570      7242     2.0           0   \n",
       "2  12.100712         2       1.00          770     10000     1.0           0   \n",
       "3  13.311329         4       3.00         1960      5000     1.0           0   \n",
       "4  13.142166         3       2.00         1680      8080     1.0           0   \n",
       "\n",
       "   view  condition  grade  sqft_above  sqft_basement  yr_built  yr_renovated  \\\n",
       "0     0          3      7        1180              0      1955             0   \n",
       "1     0          3      7        2170            400      1951          1991   \n",
       "2     0          3      6         770              0      1933             0   \n",
       "3     0          5      7        1050            910      1965             0   \n",
       "4     0          3      8        1680              0      1987             0   \n",
       "\n",
       "   zipcode      lat     long  sqft_living15  sqft_lot15  \n",
       "0    98178  47.5112 -122.257           1340        5650  \n",
       "1    98125  47.7210 -122.319           1690        7639  \n",
       "2    98028  47.7379 -122.233           2720        8062  \n",
       "3    98136  47.5208 -122.393           1360        5000  \n",
       "4    98074  47.6168 -122.045           1800        7503  "
      ]
     },
     "execution_count": 236,
     "metadata": {},
     "output_type": "execute_result"
    }
   ],
   "source": [
    "df2.head()"
   ]
  },
  {
   "cell_type": "code",
   "execution_count": 237,
   "metadata": {},
   "outputs": [],
   "source": [
    "y=df2[\"price\"]\n",
    "x=df2.drop(\"price\",axis=1)"
   ]
  },
  {
   "cell_type": "code",
   "execution_count": 173,
   "metadata": {
    "scrolled": false
   },
   "outputs": [
    {
     "data": {
      "text/html": [
       "<div>\n",
       "<style scoped>\n",
       "    .dataframe tbody tr th:only-of-type {\n",
       "        vertical-align: middle;\n",
       "    }\n",
       "\n",
       "    .dataframe tbody tr th {\n",
       "        vertical-align: top;\n",
       "    }\n",
       "\n",
       "    .dataframe thead th {\n",
       "        text-align: right;\n",
       "    }\n",
       "</style>\n",
       "<table border=\"1\" class=\"dataframe\">\n",
       "  <thead>\n",
       "    <tr style=\"text-align: right;\">\n",
       "      <th></th>\n",
       "      <th>bedrooms</th>\n",
       "      <th>bathrooms</th>\n",
       "      <th>sqft_living</th>\n",
       "      <th>sqft_lot</th>\n",
       "      <th>floors</th>\n",
       "      <th>waterfront</th>\n",
       "      <th>view</th>\n",
       "      <th>condition</th>\n",
       "      <th>grade</th>\n",
       "      <th>sqft_above</th>\n",
       "      <th>sqft_basement</th>\n",
       "      <th>yr_built</th>\n",
       "      <th>yr_renovated</th>\n",
       "      <th>zipcode</th>\n",
       "      <th>lat</th>\n",
       "      <th>long</th>\n",
       "      <th>sqft_living15</th>\n",
       "      <th>sqft_lot15</th>\n",
       "    </tr>\n",
       "  </thead>\n",
       "  <tbody>\n",
       "    <tr>\n",
       "      <th>0</th>\n",
       "      <td>3</td>\n",
       "      <td>1.00</td>\n",
       "      <td>1180</td>\n",
       "      <td>5650</td>\n",
       "      <td>1.0</td>\n",
       "      <td>0</td>\n",
       "      <td>0</td>\n",
       "      <td>3</td>\n",
       "      <td>7</td>\n",
       "      <td>1180</td>\n",
       "      <td>0</td>\n",
       "      <td>1955</td>\n",
       "      <td>0</td>\n",
       "      <td>98178</td>\n",
       "      <td>47.5112</td>\n",
       "      <td>-122.257</td>\n",
       "      <td>1340</td>\n",
       "      <td>5650</td>\n",
       "    </tr>\n",
       "    <tr>\n",
       "      <th>1</th>\n",
       "      <td>3</td>\n",
       "      <td>2.25</td>\n",
       "      <td>2570</td>\n",
       "      <td>7242</td>\n",
       "      <td>2.0</td>\n",
       "      <td>0</td>\n",
       "      <td>0</td>\n",
       "      <td>3</td>\n",
       "      <td>7</td>\n",
       "      <td>2170</td>\n",
       "      <td>400</td>\n",
       "      <td>1951</td>\n",
       "      <td>1991</td>\n",
       "      <td>98125</td>\n",
       "      <td>47.7210</td>\n",
       "      <td>-122.319</td>\n",
       "      <td>1690</td>\n",
       "      <td>7639</td>\n",
       "    </tr>\n",
       "    <tr>\n",
       "      <th>2</th>\n",
       "      <td>2</td>\n",
       "      <td>1.00</td>\n",
       "      <td>770</td>\n",
       "      <td>10000</td>\n",
       "      <td>1.0</td>\n",
       "      <td>0</td>\n",
       "      <td>0</td>\n",
       "      <td>3</td>\n",
       "      <td>6</td>\n",
       "      <td>770</td>\n",
       "      <td>0</td>\n",
       "      <td>1933</td>\n",
       "      <td>0</td>\n",
       "      <td>98028</td>\n",
       "      <td>47.7379</td>\n",
       "      <td>-122.233</td>\n",
       "      <td>2720</td>\n",
       "      <td>8062</td>\n",
       "    </tr>\n",
       "    <tr>\n",
       "      <th>3</th>\n",
       "      <td>4</td>\n",
       "      <td>3.00</td>\n",
       "      <td>1960</td>\n",
       "      <td>5000</td>\n",
       "      <td>1.0</td>\n",
       "      <td>0</td>\n",
       "      <td>0</td>\n",
       "      <td>5</td>\n",
       "      <td>7</td>\n",
       "      <td>1050</td>\n",
       "      <td>910</td>\n",
       "      <td>1965</td>\n",
       "      <td>0</td>\n",
       "      <td>98136</td>\n",
       "      <td>47.5208</td>\n",
       "      <td>-122.393</td>\n",
       "      <td>1360</td>\n",
       "      <td>5000</td>\n",
       "    </tr>\n",
       "    <tr>\n",
       "      <th>4</th>\n",
       "      <td>3</td>\n",
       "      <td>2.00</td>\n",
       "      <td>1680</td>\n",
       "      <td>8080</td>\n",
       "      <td>1.0</td>\n",
       "      <td>0</td>\n",
       "      <td>0</td>\n",
       "      <td>3</td>\n",
       "      <td>8</td>\n",
       "      <td>1680</td>\n",
       "      <td>0</td>\n",
       "      <td>1987</td>\n",
       "      <td>0</td>\n",
       "      <td>98074</td>\n",
       "      <td>47.6168</td>\n",
       "      <td>-122.045</td>\n",
       "      <td>1800</td>\n",
       "      <td>7503</td>\n",
       "    </tr>\n",
       "  </tbody>\n",
       "</table>\n",
       "</div>"
      ],
      "text/plain": [
       "   bedrooms  bathrooms  sqft_living  sqft_lot  floors  waterfront  view  \\\n",
       "0         3       1.00         1180      5650     1.0           0     0   \n",
       "1         3       2.25         2570      7242     2.0           0     0   \n",
       "2         2       1.00          770     10000     1.0           0     0   \n",
       "3         4       3.00         1960      5000     1.0           0     0   \n",
       "4         3       2.00         1680      8080     1.0           0     0   \n",
       "\n",
       "   condition  grade  sqft_above  sqft_basement  yr_built  yr_renovated  \\\n",
       "0          3      7        1180              0      1955             0   \n",
       "1          3      7        2170            400      1951          1991   \n",
       "2          3      6         770              0      1933             0   \n",
       "3          5      7        1050            910      1965             0   \n",
       "4          3      8        1680              0      1987             0   \n",
       "\n",
       "   zipcode      lat     long  sqft_living15  sqft_lot15  \n",
       "0    98178  47.5112 -122.257           1340        5650  \n",
       "1    98125  47.7210 -122.319           1690        7639  \n",
       "2    98028  47.7379 -122.233           2720        8062  \n",
       "3    98136  47.5208 -122.393           1360        5000  \n",
       "4    98074  47.6168 -122.045           1800        7503  "
      ]
     },
     "execution_count": 173,
     "metadata": {},
     "output_type": "execute_result"
    }
   ],
   "source": [
    "x.head()"
   ]
  },
  {
   "cell_type": "code",
   "execution_count": 238,
   "metadata": {},
   "outputs": [
    {
     "data": {
      "text/plain": [
       "bedrooms         0\n",
       "bathrooms        0\n",
       "sqft_living      0\n",
       "sqft_lot         0\n",
       "floors           0\n",
       "waterfront       0\n",
       "view             0\n",
       "condition        0\n",
       "grade            0\n",
       "sqft_above       0\n",
       "sqft_basement    0\n",
       "yr_built         0\n",
       "yr_renovated     0\n",
       "zipcode          0\n",
       "lat              0\n",
       "long             0\n",
       "sqft_living15    0\n",
       "sqft_lot15       0\n",
       "dtype: int64"
      ]
     },
     "execution_count": 238,
     "metadata": {},
     "output_type": "execute_result"
    }
   ],
   "source": [
    "x.isnull().sum()"
   ]
  },
  {
   "cell_type": "code",
   "execution_count": 239,
   "metadata": {
    "scrolled": true
   },
   "outputs": [
    {
     "data": {
      "text/plain": [
       "(16612, 18)"
      ]
     },
     "execution_count": 239,
     "metadata": {},
     "output_type": "execute_result"
    }
   ],
   "source": [
    "x.shape"
   ]
  },
  {
   "cell_type": "code",
   "execution_count": 240,
   "metadata": {},
   "outputs": [
    {
     "data": {
      "text/plain": [
       "(16612,)"
      ]
     },
     "execution_count": 240,
     "metadata": {},
     "output_type": "execute_result"
    }
   ],
   "source": [
    "y.shape"
   ]
  },
  {
   "cell_type": "code",
   "execution_count": 241,
   "metadata": {},
   "outputs": [
    {
     "data": {
      "text/plain": [
       "array([[0.27272727, 0.125     , 0.06150342, ..., 0.21760797, 0.16476974,\n",
       "        0.00573207],\n",
       "       [0.27272727, 0.28125   , 0.16704632, ..., 0.16611296, 0.22605498,\n",
       "        0.00801686],\n",
       "       [0.18181818, 0.125     , 0.03037206, ..., 0.23754153, 0.40640868,\n",
       "        0.00850277],\n",
       "       ...,\n",
       "       [0.27272727, 0.25      , 0.14882308, ..., 0.12541528, 0.2050429 ,\n",
       "        0.00754359],\n",
       "       [0.36363636, 0.375     , 0.13667426, ..., 0.17940199, 0.31010331,\n",
       "        0.0039286 ],\n",
       "       [0.27272727, 0.25      , 0.1055429 , ..., 0.15033223, 0.13850464,\n",
       "        0.0106141 ]])"
      ]
     },
     "execution_count": 241,
     "metadata": {},
     "output_type": "execute_result"
    }
   ],
   "source": [
    "from sklearn.preprocessing import MinMaxScaler\n",
    "scaler=MinMaxScaler()\n",
    "x=scaler.fit_transform(x)\n",
    "x\n"
   ]
  },
  {
   "cell_type": "code",
   "execution_count": 242,
   "metadata": {},
   "outputs": [],
   "source": [
    "from sklearn.model_selection import train_test_split"
   ]
  },
  {
   "cell_type": "code",
   "execution_count": 369,
   "metadata": {},
   "outputs": [],
   "source": [
    "x_train,x_test,y_train,y_test=train_test_split(x,y,test_size=0.25,random_state=41)"
   ]
  },
  {
   "cell_type": "code",
   "execution_count": 370,
   "metadata": {},
   "outputs": [
    {
     "data": {
      "text/plain": [
       "((12459, 18), (12459,))"
      ]
     },
     "execution_count": 370,
     "metadata": {},
     "output_type": "execute_result"
    }
   ],
   "source": [
    "x_train.shape,y_train.shape"
   ]
  },
  {
   "cell_type": "code",
   "execution_count": 371,
   "metadata": {},
   "outputs": [
    {
     "data": {
      "text/plain": [
       "((4153, 18), (4153,))"
      ]
     },
     "execution_count": 371,
     "metadata": {},
     "output_type": "execute_result"
    }
   ],
   "source": [
    "x_test.shape,y_test.shape"
   ]
  },
  {
   "cell_type": "code",
   "execution_count": 372,
   "metadata": {},
   "outputs": [],
   "source": [
    "from sklearn.linear_model import LinearRegression"
   ]
  },
  {
   "cell_type": "code",
   "execution_count": 373,
   "metadata": {
    "scrolled": true
   },
   "outputs": [],
   "source": [
    "reg=LinearRegression()\n",
    "model=reg.fit(x_train,y_train)"
   ]
  },
  {
   "cell_type": "code",
   "execution_count": 374,
   "metadata": {},
   "outputs": [],
   "source": [
    "y_pred=reg.predict(x_test)"
   ]
  },
  {
   "cell_type": "code",
   "execution_count": 375,
   "metadata": {},
   "outputs": [
    {
     "data": {
      "text/plain": [
       "array([13.11038096, 13.16085308, 13.18187131, ..., 13.18549067,\n",
       "       12.46689133, 12.80257099])"
      ]
     },
     "execution_count": 375,
     "metadata": {},
     "output_type": "execute_result"
    }
   ],
   "source": [
    "y_pred"
   ]
  },
  {
   "cell_type": "code",
   "execution_count": 376,
   "metadata": {
    "scrolled": true
   },
   "outputs": [
    {
     "data": {
      "text/plain": [
       "array([12.98768847, 12.90917016, 13.29294968, ..., 13.66468767,\n",
       "       12.3883942 , 12.7512997 ])"
      ]
     },
     "execution_count": 376,
     "metadata": {},
     "output_type": "execute_result"
    }
   ],
   "source": [
    "y_test.values"
   ]
  },
  {
   "cell_type": "code",
   "execution_count": 377,
   "metadata": {},
   "outputs": [
    {
     "name": "stdout",
     "output_type": "stream",
     "text": [
      "coefficients... [-1.40714969e-01  5.67924639e-01  4.21712167e+11  8.88269191e-01\n",
      "  1.79026378e-01  3.94767125e-01  2.40716340e-01  2.49913698e-01\n",
      "  1.56127915e+00 -2.89466818e+11 -1.54339609e+11 -4.42567437e-01\n",
      "  8.34419775e-02 -1.43146788e-01  8.75458122e-01 -1.93557911e-01\n",
      "  6.81874840e-01 -2.23972665e-01]\n"
     ]
    }
   ],
   "source": [
    "print(\"coefficients...\",reg.coef_)"
   ]
  },
  {
   "cell_type": "code",
   "execution_count": 378,
   "metadata": {},
   "outputs": [
    {
     "name": "stdout",
     "output_type": "stream",
     "text": [
      "intercept... 11.397491717292443\n"
     ]
    }
   ],
   "source": [
    "print(\"intercept...\",reg.intercept_)"
   ]
  },
  {
   "cell_type": "code",
   "execution_count": 379,
   "metadata": {},
   "outputs": [
    {
     "name": "stdout",
     "output_type": "stream",
     "text": [
      "Mean squared error is:  0.06533613420916794\n",
      "Root mean Squared Error: 0.25560933904919814\n"
     ]
    },
    {
     "data": {
      "text/plain": [
       "0.7657771437928402"
      ]
     },
     "execution_count": 379,
     "metadata": {},
     "output_type": "execute_result"
    }
   ],
   "source": [
    "from sklearn.metrics import mean_squared_error,r2_score\n",
    "print(\"Mean squared error is: \", mean_squared_error(y_test,y_pred)) \n",
    "print(\"Root mean Squared Error:\",np.sqrt(mean_squared_error(y_test, y_pred)))\n",
    "model.score(x_test,y_test)\n"
   ]
  },
  {
   "cell_type": "code",
   "execution_count": 380,
   "metadata": {},
   "outputs": [
    {
     "data": {
      "text/plain": [
       "1.0"
      ]
     },
     "execution_count": 380,
     "metadata": {},
     "output_type": "execute_result"
    }
   ],
   "source": [
    "model.score(x_test,y_pred)"
   ]
  },
  {
   "cell_type": "code",
   "execution_count": 381,
   "metadata": {},
   "outputs": [],
   "source": [
    "#y=mx+c\n",
    "#y=-8.98836459e-03*3+ 12.351337949240524"
   ]
  },
  {
   "cell_type": "code",
   "execution_count": 382,
   "metadata": {},
   "outputs": [
    {
     "data": {
      "text/plain": [
       "<matplotlib.axes._subplots.AxesSubplot at 0x24e58282390>"
      ]
     },
     "execution_count": 382,
     "metadata": {},
     "output_type": "execute_result"
    },
    {
     "data": {
      "image/png": "[encoded data removed]",
      "text/plain": [
       "<Figure size 432x288 with 1 Axes>"
      ]
     },
     "metadata": {
      "needs_background": "light"
     },
     "output_type": "display_data"
    }
   ],
   "source": [
    "sns.scatterplot(x=y_test,y=y_pred)"
   ]
  },
  {
   "cell_type": "code",
   "execution_count": 383,
   "metadata": {},
   "outputs": [
    {
     "name": "stdout",
     "output_type": "stream",
     "text": [
      "score: 0.7657771437928402\n"
     ]
    }
   ],
   "source": [
    "print(\"score:\",r2_score(y_test,y_pred))"
   ]
  },
  {
   "cell_type": "code",
   "execution_count": 384,
   "metadata": {},
   "outputs": [],
   "source": [
    "test_new=pd.read_csv('https://raw.githubusercontent.com/dphi-official/Datasets/master/kc_house_data/kc_house_new_test_data.csv')"
   ]
  },
  {
   "cell_type": "code",
   "execution_count": 385,
   "metadata": {},
   "outputs": [
    {
     "data": {
      "text/html": [
       "<div>\n",
       "<style scoped>\n",
       "    .dataframe tbody tr th:only-of-type {\n",
       "        vertical-align: middle;\n",
       "    }\n",
       "\n",
       "    .dataframe tbody tr th {\n",
       "        vertical-align: top;\n",
       "    }\n",
       "\n",
       "    .dataframe thead th {\n",
       "        text-align: right;\n",
       "    }\n",
       "</style>\n",
       "<table border=\"1\" class=\"dataframe\">\n",
       "  <thead>\n",
       "    <tr style=\"text-align: right;\">\n",
       "      <th></th>\n",
       "      <th>bedrooms</th>\n",
       "      <th>bathrooms</th>\n",
       "      <th>sqft_living</th>\n",
       "      <th>sqft_lot</th>\n",
       "      <th>floors</th>\n",
       "      <th>waterfront</th>\n",
       "      <th>view</th>\n",
       "      <th>condition</th>\n",
       "      <th>grade</th>\n",
       "      <th>sqft_above</th>\n",
       "      <th>sqft_basement</th>\n",
       "      <th>yr_built</th>\n",
       "      <th>yr_renovated</th>\n",
       "      <th>zipcode</th>\n",
       "      <th>lat</th>\n",
       "      <th>long</th>\n",
       "      <th>sqft_living15</th>\n",
       "      <th>sqft_lot15</th>\n",
       "    </tr>\n",
       "  </thead>\n",
       "  <tbody>\n",
       "    <tr>\n",
       "      <th>0</th>\n",
       "      <td>5</td>\n",
       "      <td>3.25</td>\n",
       "      <td>5210</td>\n",
       "      <td>35765</td>\n",
       "      <td>2.5</td>\n",
       "      <td>0</td>\n",
       "      <td>4</td>\n",
       "      <td>5</td>\n",
       "      <td>10</td>\n",
       "      <td>4940</td>\n",
       "      <td>270</td>\n",
       "      <td>1911</td>\n",
       "      <td>0</td>\n",
       "      <td>98136</td>\n",
       "      <td>47.5463</td>\n",
       "      <td>-122.397</td>\n",
       "      <td>2590</td>\n",
       "      <td>10250</td>\n",
       "    </tr>\n",
       "    <tr>\n",
       "      <th>1</th>\n",
       "      <td>5</td>\n",
       "      <td>2.00</td>\n",
       "      <td>2800</td>\n",
       "      <td>17788</td>\n",
       "      <td>1.0</td>\n",
       "      <td>0</td>\n",
       "      <td>0</td>\n",
       "      <td>4</td>\n",
       "      <td>8</td>\n",
       "      <td>1400</td>\n",
       "      <td>1400</td>\n",
       "      <td>1963</td>\n",
       "      <td>0</td>\n",
       "      <td>98033</td>\n",
       "      <td>47.6719</td>\n",
       "      <td>-122.163</td>\n",
       "      <td>1760</td>\n",
       "      <td>18282</td>\n",
       "    </tr>\n",
       "    <tr>\n",
       "      <th>2</th>\n",
       "      <td>4</td>\n",
       "      <td>2.25</td>\n",
       "      <td>2060</td>\n",
       "      <td>44431</td>\n",
       "      <td>2.0</td>\n",
       "      <td>0</td>\n",
       "      <td>0</td>\n",
       "      <td>3</td>\n",
       "      <td>7</td>\n",
       "      <td>2060</td>\n",
       "      <td>0</td>\n",
       "      <td>1988</td>\n",
       "      <td>0</td>\n",
       "      <td>98077</td>\n",
       "      <td>47.7440</td>\n",
       "      <td>-122.046</td>\n",
       "      <td>2160</td>\n",
       "      <td>45657</td>\n",
       "    </tr>\n",
       "    <tr>\n",
       "      <th>3</th>\n",
       "      <td>5</td>\n",
       "      <td>2.00</td>\n",
       "      <td>2360</td>\n",
       "      <td>19899</td>\n",
       "      <td>1.0</td>\n",
       "      <td>0</td>\n",
       "      <td>0</td>\n",
       "      <td>4</td>\n",
       "      <td>7</td>\n",
       "      <td>2360</td>\n",
       "      <td>0</td>\n",
       "      <td>1968</td>\n",
       "      <td>0</td>\n",
       "      <td>98010</td>\n",
       "      <td>47.3299</td>\n",
       "      <td>-122.046</td>\n",
       "      <td>1860</td>\n",
       "      <td>19998</td>\n",
       "    </tr>\n",
       "    <tr>\n",
       "      <th>4</th>\n",
       "      <td>4</td>\n",
       "      <td>2.50</td>\n",
       "      <td>2370</td>\n",
       "      <td>6557</td>\n",
       "      <td>2.0</td>\n",
       "      <td>0</td>\n",
       "      <td>0</td>\n",
       "      <td>3</td>\n",
       "      <td>9</td>\n",
       "      <td>2370</td>\n",
       "      <td>0</td>\n",
       "      <td>1998</td>\n",
       "      <td>0</td>\n",
       "      <td>98042</td>\n",
       "      <td>47.4230</td>\n",
       "      <td>-122.155</td>\n",
       "      <td>2370</td>\n",
       "      <td>7378</td>\n",
       "    </tr>\n",
       "  </tbody>\n",
       "</table>\n",
       "</div>"
      ],
      "text/plain": [
       "   bedrooms  bathrooms  sqft_living  sqft_lot  floors  waterfront  view  \\\n",
       "0         5       3.25         5210     35765     2.5           0     4   \n",
       "1         5       2.00         2800     17788     1.0           0     0   \n",
       "2         4       2.25         2060     44431     2.0           0     0   \n",
       "3         5       2.00         2360     19899     1.0           0     0   \n",
       "4         4       2.50         2370      6557     2.0           0     0   \n",
       "\n",
       "   condition  grade  sqft_above  sqft_basement  yr_built  yr_renovated  \\\n",
       "0          5     10        4940            270      1911             0   \n",
       "1          4      8        1400           1400      1963             0   \n",
       "2          3      7        2060              0      1988             0   \n",
       "3          4      7        2360              0      1968             0   \n",
       "4          3      9        2370              0      1998             0   \n",
       "\n",
       "   zipcode      lat     long  sqft_living15  sqft_lot15  \n",
       "0    98136  47.5463 -122.397           2590       10250  \n",
       "1    98033  47.6719 -122.163           1760       18282  \n",
       "2    98077  47.7440 -122.046           2160       45657  \n",
       "3    98010  47.3299 -122.046           1860       19998  \n",
       "4    98042  47.4230 -122.155           2370        7378  "
      ]
     },
     "execution_count": 385,
     "metadata": {},
     "output_type": "execute_result"
    }
   ],
   "source": [
    "test_new.head()"
   ]
  },
  {
   "cell_type": "code",
   "execution_count": 386,
   "metadata": {},
   "outputs": [],
   "source": [
    "price=model.predict(test_new)"
   ]
  },
  {
   "cell_type": "code",
   "execution_count": 387,
   "metadata": {},
   "outputs": [
    {
     "data": {
      "text/plain": [
       "array([7.25482617e+14, 5.59465071e+14, 2.72425420e+14, ...,\n",
       "       1.34890256e+14, 2.11592559e+14, 1.34890256e+14])"
      ]
     },
     "execution_count": 387,
     "metadata": {},
     "output_type": "execute_result"
    }
   ],
   "source": [
    "price"
   ]
  },
  {
   "cell_type": "code",
   "execution_count": 388,
   "metadata": {},
   "outputs": [
    {
     "data": {
      "text/plain": [
       "(4999,)"
      ]
     },
     "execution_count": 388,
     "metadata": {},
     "output_type": "execute_result"
    }
   ],
   "source": [
    "price.shape"
   ]
  },
  {
   "cell_type": "code",
   "execution_count": 389,
   "metadata": {},
   "outputs": [
    {
     "data": {
      "text/plain": [
       "(4999, 18)"
      ]
     },
     "execution_count": 389,
     "metadata": {},
     "output_type": "execute_result"
    }
   ],
   "source": [
    "test_new.shape"
   ]
  },
  {
   "cell_type": "code",
   "execution_count": 390,
   "metadata": {},
   "outputs": [
    {
     "name": "stdout",
     "output_type": "stream",
     "text": [
      "Root mean Squared Error: 0.25560933904919814\n"
     ]
    }
   ],
   "source": [
    "print(\"Root mean Squared Error:\",np.sqrt(mean_squared_error(y_test, y_pred)))"
   ]
  },
  {
   "cell_type": "code",
   "execution_count": 391,
   "metadata": {},
   "outputs": [],
   "source": [
    "res=pd.DataFrame(price)\n",
    "res.index=test_new.index\n",
    "res.columns=[\"price\"]\n",
    "res.to_csv(\"prediction_results_HP.csv\")"
   ]
  },
  {
   "cell_type": "code",
   "execution_count": null,
   "metadata": {},
   "outputs": [],
   "source": []
  }
 ],
 "metadata": {
  "kernelspec": {
   "display_name": "Python 3",
   "language": "python",
   "name": "python3"
  },
  "language_info": {
   "codemirror_mode": {
    "name": "ipython",
    "version": 3
   },
   "file_extension": ".py",
   "mimetype": "text/x-python",
   "name": "python",
   "nbconvert_exporter": "python",
   "pygments_lexer": "ipython3",
   "version": "3.6.8"
  }
 },
 "nbformat": 4,
 "nbformat_minor": 2
}
